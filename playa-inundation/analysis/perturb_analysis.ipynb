{
 "cells": [
  {
   "cell_type": "code",
   "execution_count": null,
   "metadata": {},
   "outputs": [],
   "source": [
    "import pandas as pd\n",
    "import matplotlib.pyplot as plt\n",
    "import numpy as np"
   ]
  },
  {
   "cell_type": "code",
   "execution_count": null,
   "metadata": {},
   "outputs": [],
   "source": [
    "perturb_csv = '../modeling/perturbed_preds.csv'"
   ]
  },
  {
   "cell_type": "code",
   "execution_count": null,
   "metadata": {},
   "outputs": [],
   "source": [
    "df = pd.read_csv(perturb_csv)"
   ]
  },
  {
   "cell_type": "code",
   "execution_count": null,
   "metadata": {},
   "outputs": [],
   "source": [
    "df['date'] = np.tile(pd.date_range('1984-03', periods=418, freq='M'), int(df.shape[0]/418))"
   ]
  },
  {
   "cell_type": "code",
   "execution_count": null,
   "metadata": {},
   "outputs": [],
   "source": [
    "perturb_month_index = df.loc[df['perturbed']==1].index.min()"
   ]
  },
  {
   "cell_type": "code",
   "execution_count": null,
   "metadata": {},
   "outputs": [],
   "source": [
    "perturb_name_list = [\n",
    "    'Base',\n",
    "    'Precip + 1',\n",
    "    'Precip - 1',\n",
    "    'Temp + 0.5',\n",
    "    'Temp - 0.5',\n",
    "    'VPD + 0.25',\n",
    "    'VPD - 0.25'\n",
    "]"
   ]
  },
  {
   "cell_type": "markdown",
   "metadata": {},
   "source": [
    "# Plots"
   ]
  },
  {
   "cell_type": "code",
   "execution_count": null,
   "metadata": {},
   "outputs": [],
   "source": [
    "# All\n",
    "fig, ax = plt.subplots(figsize=[15,10])\n",
    "for i in range(df['perturb_id'].max()+1):\n",
    "    cur_df = df.loc[df['perturb_id']==i]\n",
    "    ax.plot(cur_df['date'], cur_df['pred'], label=perturb_name_list[i],linewidth=1.25)\n",
    "plt.legend()\n",
    "plt.xlim([cur_df['date'].values[perturb_month_index-3],cur_df['date'].values[perturb_month_index+36]])\n",
    "plt.show()"
   ]
  },
  {
   "cell_type": "code",
   "execution_count": null,
   "metadata": {},
   "outputs": [],
   "source": [
    "# Precip\n",
    "fig, ax = plt.subplots(figsize=[15,10])\n",
    "for i in range(3):# df['perturb_id'].max()+1):\n",
    "    cur_df = df.loc[df['perturb_id']==i]\n",
    "    ax.plot(cur_df['date'], cur_df['pred'], label=perturb_name_list[i],linewidth=1.25)\n",
    "plt.legend()\n",
    "plt.xlim([cur_df['date'].values[perturb_month_index-3],cur_df['date'].values[perturb_month_index+36]])\n",
    "plt.show()"
   ]
  },
  {
   "cell_type": "code",
   "execution_count": null,
   "metadata": {},
   "outputs": [],
   "source": [
    "# Temp\n",
    "fig, ax = plt.subplots(figsize=[15,10])\n",
    "for i in [0, 3,4]:\n",
    "    cur_df = df.loc[df['perturb_id']==i]\n",
    "    ax.plot(cur_df['date'], cur_df['pred'], label=perturb_name_list[i],linewidth=1.25)\n",
    "plt.legend()\n",
    "plt.xlim([cur_df['date'].values[perturb_month_index-3],cur_df['date'].values[perturb_month_index+36]])\n",
    "plt.show()"
   ]
  },
  {
   "cell_type": "code",
   "execution_count": null,
   "metadata": {},
   "outputs": [],
   "source": [
    "# VPD\n",
    "fig, ax = plt.subplots(figsize=[15,10])\n",
    "for i in [0, 5,6]:\n",
    "    cur_df = df.loc[df['perturb_id']==i]\n",
    "    ax.plot(cur_df['date'], cur_df['pred'], label=perturb_name_list[i],linewidth=1.25)\n",
    "plt.legend()\n",
    "plt.xlim([cur_df['date'].values[perturb_month_index-3],cur_df['date'].values[perturb_month_index+36]])\n",
    "plt.show()"
   ]
  },
  {
   "cell_type": "markdown",
   "metadata": {},
   "source": [
    "# Mean Difference"
   ]
  },
  {
   "cell_type": "code",
   "execution_count": null,
   "metadata": {},
   "outputs": [],
   "source": [
    "base = df.loc[df['perturb_id']==0]['pred'].values[perturb_month_index:]"
   ]
  },
  {
   "cell_type": "code",
   "execution_count": null,
   "metadata": {},
   "outputs": [],
   "source": [
    "# Precip\n",
    "p = df.loc[df['perturb_id']==1]['pred'].values[perturb_month_index:]\n",
    "n = df.loc[df['perturb_id']==2]['pred'].values[perturb_month_index:]\n",
    "print(np.mean(p-base))\n",
    "print(np.mean(n-base))"
   ]
  },
  {
   "cell_type": "code",
   "execution_count": null,
   "metadata": {},
   "outputs": [],
   "source": [
    "# Temp\n",
    "p = df.loc[df['perturb_id']==3]['pred'].values[perturb_month_index:]\n",
    "n = df.loc[df['perturb_id']==4]['pred'].values[perturb_month_index:]\n",
    "print(np.mean(p-base))\n",
    "print(np.mean(n-base))"
   ]
  },
  {
   "cell_type": "code",
   "execution_count": null,
   "metadata": {},
   "outputs": [],
   "source": [
    "# VPD\n",
    "p = df.loc[df['perturb_id']==5]['pred'].values[perturb_month_index:]\n",
    "n = df.loc[df['perturb_id']==6]['pred'].values[perturb_month_index:]\n",
    "print(np.mean(p-base))\n",
    "print(np.mean(n-base))"
   ]
  }
 ],
 "metadata": {
  "kernelspec": {
   "display_name": "Environment (conda_pytorch_latest_p36)",
   "language": "python",
   "name": "conda_pytorch_latest_p36"
  },
  "language_info": {
   "codemirror_mode": {
    "name": "ipython",
    "version": 3
   },
   "file_extension": ".py",
   "mimetype": "text/x-python",
   "name": "python",
   "nbconvert_exporter": "python",
   "pygments_lexer": "ipython3",
   "version": "3.6.10"
  }
 },
 "nbformat": 4,
 "nbformat_minor": 4
}
