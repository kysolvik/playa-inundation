{
 "cells": [
  {
   "cell_type": "code",
   "execution_count": null,
   "metadata": {},
   "outputs": [],
   "source": [
    "import geopandas as gpd\n",
    "import pandas as pd\n",
    "import matplotlib.pyplot as plt"
   ]
  },
  {
   "cell_type": "code",
   "execution_count": null,
   "metadata": {},
   "outputs": [],
   "source": [
    "playa_att_df = pd.read_csv('../data/playa_nogeometry_whucs.csv')"
   ]
  },
  {
   "cell_type": "code",
   "execution_count": null,
   "metadata": {},
   "outputs": [],
   "source": [
    "shp = '../data/shapefiles/playa_v5_summary_atts/playa_v5_summary_atts.shp'\n",
    "playa_gdf = gpd.read_file(shp)\n",
    "playa_gdf = playa_gdf[['id','geometry']].set_index('id')\n",
    "playa_gdf['geometry'] = playa_gdf['geometry'].centroid\n",
    "playa_gdf = playa_gdf.to_crs('epsg:4326')"
   ]
  },
  {
   "cell_type": "code",
   "execution_count": null,
   "metadata": {},
   "outputs": [],
   "source": [
    "states_df = gpd.read_file('../data/other_data/us_states/cb_2019_us_state_500k.shp')\n",
    "states_df = states_df[['NAME','geometry']].to_crs('epsg:4326')"
   ]
  },
  {
   "cell_type": "code",
   "execution_count": null,
   "metadata": {},
   "outputs": [],
   "source": [
    "minx, miny, maxx, maxy = playa_gdf.geometry.total_bounds"
   ]
  },
  {
   "cell_type": "markdown",
   "metadata": {},
   "source": [
    "# Per playa test loss"
   ]
  },
  {
   "cell_type": "code",
   "execution_count": null,
   "metadata": {},
   "outputs": [],
   "source": [
    "test_loss_df = pd.read_csv('../data/per_playa_test_loss.csv', names=['id','test_loss']).iloc[1:].set_index('id')['test_loss']"
   ]
  },
  {
   "cell_type": "code",
   "execution_count": null,
   "metadata": {},
   "outputs": [],
   "source": [
    "playa_gdf = playa_gdf.join(test_loss_df)"
   ]
  },
  {
   "cell_type": "code",
   "execution_count": null,
   "metadata": {},
   "outputs": [],
   "source": [
    "ax = states_df.plot(color='white', edgecolor='black', figsize=[15,10])\n",
    "playa_gdf.plot(ax=ax, column='test_loss',  markersize=0.25,   vmin=0, vmax=0.5, legend=True)\n",
    "ax.set_xlim(minx-0.5, maxx+0.5)\n",
    "ax.set_ylim(miny-0.5, maxy+0.5)\n",
    "plt.show()"
   ]
  },
  {
   "cell_type": "markdown",
   "metadata": {},
   "source": [
    "## All loss"
   ]
  },
  {
   "cell_type": "code",
   "execution_count": null,
   "metadata": {},
   "outputs": [],
   "source": [
    "full_loss_df = pd.read_csv('../data/per_playa_all_loss.csv', names=['id','full_loss']).iloc[1:].set_index('id')['full_loss']"
   ]
  },
  {
   "cell_type": "code",
   "execution_count": null,
   "metadata": {},
   "outputs": [],
   "source": [
    "playa_gdf = playa_gdf.join(full_loss_df)"
   ]
  },
  {
   "cell_type": "code",
   "execution_count": null,
   "metadata": {},
   "outputs": [],
   "source": [
    "ax = states_df.plot(color='white', edgecolor='black', figsize=[15,10])\n",
    "playa_gdf.plot(ax=ax, column='full_loss',  markersize=0.25, vmin=0, vmax=0.5, legend=True)\n",
    "ax.set_xlim(minx-0.5, maxx+0.5)\n",
    "ax.set_ylim(miny-0.5, maxy+0.5)\n",
    "plt.show()"
   ]
  },
  {
   "cell_type": "markdown",
   "metadata": {},
   "source": [
    "## Test f1"
   ]
  },
  {
   "cell_type": "code",
   "execution_count": null,
   "metadata": {},
   "outputs": [],
   "source": [
    "test_f1_df = pd.read_csv('../data/per_playa_test_f1.csv', names=['id','test_f1']).iloc[1:].set_index('id')['test_f1']"
   ]
  },
  {
   "cell_type": "code",
   "execution_count": null,
   "metadata": {},
   "outputs": [],
   "source": [
    "playa_gdf = playa_gdf.join(test_f1_df)"
   ]
  },
  {
   "cell_type": "code",
   "execution_count": null,
   "metadata": {},
   "outputs": [],
   "source": [
    "ax = states_df.plot(color='white', edgecolor='black', figsize=[15,10])\n",
    "playa_gdf.plot(ax=ax,column='test_f1',  markersize=0.25, legend=True)\n",
    "ax.set_xlim(minx-0.5, maxx+0.5)\n",
    "ax.set_ylim(miny-0.5, maxy+0.5)\n",
    "plt.show()"
   ]
  }
 ],
 "metadata": {
  "kernelspec": {
   "display_name": "playa_venv",
   "language": "python",
   "name": "playa_venv"
  },
  "language_info": {
   "codemirror_mode": {
    "name": "ipython",
    "version": 3
   },
   "file_extension": ".py",
   "mimetype": "text/x-python",
   "name": "python",
   "nbconvert_exporter": "python",
   "pygments_lexer": "ipython3",
   "version": "3.7.3"
  }
 },
 "nbformat": 4,
 "nbformat_minor": 4
}
