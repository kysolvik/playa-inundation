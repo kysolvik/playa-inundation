{
 "cells": [
  {
   "cell_type": "code",
   "execution_count": null,
   "metadata": {},
   "outputs": [],
   "source": [
    "import pandas as pd\n",
    "import matplotlib.pyplot as plt\n",
    "from sklearn.metrics import log_loss, f1_score, roc_curve, precision_score, recall_score, accuracy_score, auc\n",
    "import numpy as np\n",
    "import datetime as dt\n",
    "import os\n",
    "from torch import sigmoid, Tensor"
   ]
  },
  {
   "cell_type": "code",
   "execution_count": null,
   "metadata": {},
   "outputs": [],
   "source": [
    "%matplotlib inline"
   ]
  },
  {
   "cell_type": "code",
   "execution_count": null,
   "metadata": {},
   "outputs": [],
   "source": [
    "pred_df = pd.read_csv('../data/all_preds_best_mean_inun_v2.csv')"
   ]
  },
  {
   "cell_type": "code",
   "execution_count": null,
   "metadata": {},
   "outputs": [],
   "source": [
    "#pred_df['pred'] = sigmoid(Tensor(pred_df['pred'])) # If providing outputs before sigmoid activation"
   ]
  },
  {
   "cell_type": "code",
   "execution_count": null,
   "metadata": {},
   "outputs": [],
   "source": [
    "# Add months and years back in\n",
    "pred_df['date'] = np.tile(pd.date_range('1984-03', periods=418, freq='M'), int(pred_df.shape[0]/418))\n",
    "pred_df = pred_df.set_index(['id','date'])"
   ]
  },
  {
   "cell_type": "code",
   "execution_count": null,
   "metadata": {},
   "outputs": [],
   "source": [
    "pred_df['set_flag'] = 2\n",
    "pred_df.loc[pred_df.index.get_level_values(1)<pd.Timestamp('2015-01-01'), 'set_flag'] = 1\n",
    "pred_df.loc[pred_df.index.get_level_values(1)<pd.Timestamp('2011-01-01'), 'set_flag'] = 0"
   ]
  },
  {
   "cell_type": "code",
   "execution_count": null,
   "metadata": {},
   "outputs": [],
   "source": [
    "test_pred_df = pred_df.loc[pred_df['set_flag']==2]\n",
    "val_pred_df = pred_df.loc[pred_df['set_flag']==1]\n",
    "train_pred_df = pred_df.loc[pred_df['set_flag']==0]"
   ]
  },
  {
   "cell_type": "markdown",
   "metadata": {},
   "source": [
    "# Platt Scaling \n",
    "## Doesn't work very well"
   ]
  },
  {
   "cell_type": "code",
   "execution_count": null,
   "metadata": {},
   "outputs": [],
   "source": [
    "# without overfit correction\n",
    "from sklearn.linear_model import LogisticRegression as LR\n",
    "# From: http://fastml.com/classifier-calibration-with-platts-scaling-and-isotonic-regression/\n",
    "# lr = LR()                                                       \n",
    "# lr.fit(train_pred_df['pred'].values.reshape(-1,1), train_pred_df['true'].values.reshape(-1,1))\n",
    "\n",
    "\n",
    "# with overfit correction\n",
    "# Would have to use a workaround and not sure it would make much difference\n",
    "# train_pred_df['platt_target'] = 0\n",
    "# tot_pos = train_pred_df['true'].sum()\n",
    "# tot_neg = (train_pred_df['true']==0).sum()\n",
    "# train_pred_df.loc[train_pred_df['true']==1] = (tot_pos+1)/(tot_pos+2)\n",
    "# train_pred_df.loc[train_pred_df['true']==0] = (1)/(tot_neg+2)\n",
    "# lr = LR()                                                       \n",
    "# lr.fit(train_pred_df['pred'].values.reshape(-1,1), train_pred_df['platt_target'].values.reshape(-1,1))\n"
   ]
  },
  {
   "cell_type": "code",
   "execution_count": null,
   "metadata": {},
   "outputs": [],
   "source": [
    "# pred_df['pred_cal'] = lr.predict_proba(pred_df['pred'].values.reshape( -1, 1 ))[:,1]\n",
    "# train_pred_df['pred_cal'] = lr.predict_proba(train_pred_df['pred'].values.reshape( -1, 1 ))[:,1]\n",
    "# val_pred_df['pred_cal'] = lr.predict_proba(val_pred_df['pred'].values.reshape( -1, 1 ))[:,1]\n",
    "# test_pred_df['pred_cal'] = lr.predict_proba(test_pred_df['pred'].values.reshape( -1, 1 ))[:,1]"
   ]
  },
  {
   "cell_type": "markdown",
   "metadata": {},
   "source": [
    "# Isotonic regression"
   ]
  },
  {
   "cell_type": "code",
   "execution_count": null,
   "metadata": {},
   "outputs": [],
   "source": [
    "from sklearn.isotonic import IsotonicRegression as IR\n",
    "# From: http://fastml.com/classifier-calibration-with-plats-scaling-and-isotonic-regression/\n",
    "ir = IR( out_of_bounds = 'clip' )                                                       \n",
    "ir.fit(val_pred_df['pred'].values, val_pred_df['true'].values)\n"
   ]
  },
  {
   "cell_type": "code",
   "execution_count": null,
   "metadata": {},
   "outputs": [],
   "source": [
    "pred_df['pred_cal'] = ir.transform(pred_df['pred'].values)\n",
    "train_pred_df['pred_cal'] = ir.transform(train_pred_df['pred'].values)\n",
    "val_pred_df['pred_cal'] = ir.transform(val_pred_df['pred'].values)\n",
    "test_pred_df['pred_cal'] = ir.transform(test_pred_df['pred'].values)\n",
    "pred_df.loc[pred_df['pred_cal']<=0,'pred_cal'] = 0.00000000001\n",
    "train_pred_df.loc[train_pred_df['pred_cal']<=0,'pred_cal'] = 0.00000000001\n",
    "val_pred_df.loc[val_pred_df['pred_cal']<=0,'pred_cal'] = 0.00000000001\n",
    "test_pred_df.loc[test_pred_df['pred_cal']<=0,'pred_cal'] = 0.00000000001"
   ]
  },
  {
   "cell_type": "markdown",
   "metadata": {},
   "source": [
    "# Reliability plots"
   ]
  },
  {
   "cell_type": "code",
   "execution_count": null,
   "metadata": {},
   "outputs": [],
   "source": [
    "nbins = 10\n",
    "bin_size = 1/nbins\n",
    "target_probs = np.arange(0.05, 1.00001, bin_size)\n",
    "\n",
    "def calc_probs(cur_pred_df, bin_size, pred_col='pred'):\n",
    "    actual_probs = []\n",
    "    pred_probs = []\n",
    "    for bin_start in np.arange(0, 1, bin_size):\n",
    "        current_preds = cur_pred_df.loc[(cur_pred_df[pred_col] > bin_start) & (cur_pred_df[pred_col] < (bin_start + bin_size))]\n",
    "        actual_probs.append(current_preds['true'].sum()/current_preds.shape[0])\n",
    "        pred_probs.append(current_preds[pred_col].mean())\n",
    "    return actual_probs, pred_probs"
   ]
  },
  {
   "cell_type": "markdown",
   "metadata": {},
   "source": [
    "### All"
   ]
  },
  {
   "cell_type": "code",
   "execution_count": null,
   "metadata": {},
   "outputs": [],
   "source": [
    "fig, ax = plt.subplots(1,2)\n",
    "actual_probs, pred_probs = calc_probs(pred_df, bin_size)\n",
    "actual_probs_cal, pred_probs_cal = calc_probs(pred_df, bin_size, 'pred_cal')\n",
    "ax[0].scatter(pred_probs, actual_probs)\n",
    "ax[0].plot([0, 1], [0, 1], 'k-')\n",
    "ax[0].set_title('Before calibration')\n",
    "ax[0].set_ylabel('P(Inundation)')\n",
    "ax[0].set_xlabel('Confidence')\n",
    "ax[1].scatter(pred_probs_cal, actual_probs_cal)\n",
    "ax[1].plot([0, 1], [0, 1], 'k-')\n",
    "ax[1].set_title('After calibration')\n",
    "ax[1].set_ylabel('P(Inundation)')\n",
    "ax[1].set_xlabel('Confidence')\n",
    "fig.show()\n"
   ]
  },
  {
   "cell_type": "markdown",
   "metadata": {},
   "source": [
    "### Train"
   ]
  },
  {
   "cell_type": "code",
   "execution_count": null,
   "metadata": {},
   "outputs": [],
   "source": [
    "fig, ax = plt.subplots(1,2)\n",
    "actual_train_probs, pred_train_probs = calc_probs(train_pred_df, bin_size)\n",
    "actual_train_probs_cal, pred_train_probs_cal = calc_probs(train_pred_df, bin_size, 'pred_cal')\n",
    "ax[0].scatter(pred_train_probs, actual_train_probs)\n",
    "ax[0].plot([0, 1], [0, 1], 'k-')\n",
    "ax[0].set_title('Before calibration')\n",
    "ax[0].set_ylabel('P(Inundation)')\n",
    "ax[0].set_xlabel('Confidence')\n",
    "ax[1].scatter(pred_train_probs_cal, actual_train_probs_cal)\n",
    "ax[1].plot([0, 1], [0, 1], 'k-')\n",
    "ax[1].set_title('After calibration')\n",
    "ax[1].set_ylabel('P(Inundation)')\n",
    "ax[1].set_xlabel('Confidence')\n",
    "fig.show()\n"
   ]
  },
  {
   "cell_type": "markdown",
   "metadata": {},
   "source": [
    "### Validation"
   ]
  },
  {
   "cell_type": "code",
   "execution_count": null,
   "metadata": {},
   "outputs": [],
   "source": [
    "fig, ax = plt.subplots(1,2)\n",
    "actual_val_probs, pred_val_probs = calc_probs(val_pred_df, bin_size)\n",
    "actual_val_probs_cal, pred_val_probs_cal = calc_probs(val_pred_df, bin_size, 'pred_cal')\n",
    "ax[0].scatter(pred_val_probs, actual_val_probs)\n",
    "ax[0].plot([0, 1], [0, 1], 'k-')\n",
    "ax[0].set_title('Before calibration')\n",
    "ax[0].set_ylabel('P(Inundation)')\n",
    "ax[0].set_xlabel('Confidence')\n",
    "ax[1].scatter(pred_val_probs_cal, actual_val_probs_cal)\n",
    "ax[1].plot([0, 1], [0, 1], 'k-')\n",
    "ax[1].set_title('After calibration')\n",
    "ax[1].set_ylabel('P(Inundation)')\n",
    "ax[1].set_xlabel('Confidence')\n",
    "fig.show()"
   ]
  },
  {
   "cell_type": "markdown",
   "metadata": {},
   "source": [
    "### Test"
   ]
  },
  {
   "cell_type": "code",
   "execution_count": null,
   "metadata": {},
   "outputs": [],
   "source": [
    "fig, ax = plt.subplots(1,2, figsize=(13,5))\n",
    "actual_test_probs, pred_test_probs = calc_probs(test_pred_df, bin_size)\n",
    "actual_test_probs_cal, pred_test_probs_cal = calc_probs(test_pred_df, bin_size, 'pred_cal')\n",
    "ax[0].scatter(pred_test_probs, actual_test_probs)\n",
    "ax[0].plot([0, 1], [0, 1], 'k-')\n",
    "ax[0].set_title('Before calibration', size=14)\n",
    "ax[0].set_ylabel('Actual P(Inundation)', size=13)\n",
    "ax[0].set_xlabel('Model Confidence', size=13)\n",
    "ax[1].scatter(pred_test_probs_cal, actual_test_probs_cal)\n",
    "ax[1].plot([0, 1], [0, 1], 'k-')\n",
    "ax[1].set_title('After calibration', size=14)\n",
    "ax[1].set_ylabel('Actual P(Inundation)', size=13)\n",
    "ax[1].set_xlabel('Model Confidence', size=13)\n",
    "plt.savefig('/home/ksolvik/research/misc_projects/playa/deliverables/figures/test_calibration.png', dpi=300, bbox_inches='tight')\n",
    "fig.show()"
   ]
  },
  {
   "cell_type": "markdown",
   "metadata": {},
   "source": [
    "## Paper Figure"
   ]
  },
  {
   "cell_type": "code",
   "execution_count": null,
   "metadata": {},
   "outputs": [],
   "source": [
    "fig, ax = plt.subplots(3,2,figsize=(12,10))\n",
    "# Train\n",
    "ax[0,0].scatter(pred_train_probs, actual_train_probs)\n",
    "ax[0,0].plot([0, 1], [0, 1], 'k-')\n",
    "ax[0,0].set_title('Train, Before calibration', size=14)\n",
    "ax[0,0].set_ylabel('Actual P(Inundation)', size=13)\n",
    "ax[0,0].set_xlabel('Model Confidence', size=13)\n",
    "ax[0,1].scatter(pred_train_probs_cal, actual_train_probs_cal)\n",
    "ax[0,1].plot([0, 1], [0, 1], 'k-')\n",
    "ax[0,1].set_title('Train, After calibration', size=14)\n",
    "ax[0,1].set_ylabel('Actual P(Inundation)', size=13)\n",
    "ax[0,1].set_xlabel('Model Confidence', size=13)\n",
    "# Val\n",
    "ax[1,0].scatter(pred_val_probs, actual_val_probs)\n",
    "ax[1,0].plot([0, 1], [0, 1], 'k-')\n",
    "ax[1,0].set_title('Validation, Before calibration', size=14)\n",
    "ax[1,0].set_ylabel('Actual P(Inundation)', size=13)\n",
    "ax[1,0].set_xlabel('Model Confidence', size=13)\n",
    "ax[1,1].scatter(pred_val_probs_cal, actual_val_probs_cal)\n",
    "ax[1,1].plot([0, 1], [0, 1], 'k-')\n",
    "ax[1,1].set_title('Validation, After calibration', size=14)\n",
    "ax[1,1].set_ylabel('Actual P(Inundation)', size=13)\n",
    "ax[1,1].set_xlabel('Model Confidence', size=13)\n",
    "# Test\n",
    "ax[2,0].scatter(pred_test_probs, actual_test_probs)\n",
    "ax[2,0].plot([0, 1], [0, 1], 'k-')\n",
    "ax[2,0].set_title('Test, Before calibration', size=14)\n",
    "ax[2,0].set_ylabel('Actual P(Inundation)', size=13)\n",
    "ax[2,0].set_xlabel('Model Confidence', size=13)\n",
    "ax[2,1].scatter(pred_test_probs_cal, actual_test_probs_cal)\n",
    "ax[2,1].plot([0, 1], [0, 1], 'k-')\n",
    "ax[2,1].set_title('Test, After calibration', size=14)\n",
    "ax[2,1].set_ylabel('Actual P(Inundation)', size=13)\n",
    "ax[2,1].set_xlabel('Model Confidence', size=13)\n",
    "fig.tight_layout()\n",
    "plt.savefig('/home/ksolvik/research/misc_projects/playa/deliverables/figures/test_calibration.png', dpi=300, bbox_inches='tight')\n",
    "fig.show()"
   ]
  },
  {
   "cell_type": "markdown",
   "metadata": {},
   "source": [
    "# Checking performance"
   ]
  },
  {
   "cell_type": "code",
   "execution_count": null,
   "metadata": {},
   "outputs": [],
   "source": [
    "print(log_loss(train_pred_df['true'].values, train_pred_df['pred'].values))\n",
    "print(log_loss(train_pred_df['true'].values, train_pred_df['pred_cal'].values.astype('float64')))"
   ]
  },
  {
   "cell_type": "code",
   "execution_count": null,
   "metadata": {},
   "outputs": [],
   "source": [
    "print(log_loss( val_pred_df['true'].values, val_pred_df['pred'].values))\n",
    "print(log_loss( val_pred_df['true'].values, val_pred_df['pred_cal'].values.astype('float64')))"
   ]
  },
  {
   "cell_type": "code",
   "execution_count": null,
   "metadata": {},
   "outputs": [],
   "source": [
    "print(log_loss(test_pred_df['true'].values, test_pred_df['pred'].values))\n",
    "print(log_loss(test_pred_df['true'].values, test_pred_df['pred_cal'].values.astype('float64')))"
   ]
  },
  {
   "cell_type": "code",
   "execution_count": null,
   "metadata": {},
   "outputs": [],
   "source": [
    "cutoff=0.25\n",
    "# print('train f1 (before, after):',\n",
    "#       f1_score(train_pred_df['true'].values, train_pred_df['pred'].values>cutoff),\n",
    "#       f1_score(train_pred_df['true'].values, train_pred_df['pred_cal'].values>cutoff))\n",
    "print('val f1 (before, after):',\n",
    "      f1_score(val_pred_df['true'].values, val_pred_df['pred'].values>cutoff),\n",
    "      f1_score(val_pred_df['true'].values, val_pred_df['pred_cal'].values>cutoff))\n",
    "print('test f1 (before, after):',\n",
    "      f1_score(test_pred_df['true'].values, test_pred_df['pred'].values>cutoff),\n",
    "      f1_score(test_pred_df['true'].values, test_pred_df['pred_cal'].values>cutoff))"
   ]
  },
  {
   "cell_type": "markdown",
   "metadata": {},
   "source": [
    " # Save results"
   ]
  },
  {
   "cell_type": "code",
   "execution_count": null,
   "metadata": {},
   "outputs": [],
   "source": [
    "pred_df.to_csv('../data/all_preds_best_mean_inun_v2_calibrated.csv')"
   ]
  }
 ],
 "metadata": {
  "kernelspec": {
   "display_name": "playa_venv",
   "language": "python",
   "name": "playa_venv"
  },
  "language_info": {
   "codemirror_mode": {
    "name": "ipython",
    "version": 3
   },
   "file_extension": ".py",
   "mimetype": "text/x-python",
   "name": "python",
   "nbconvert_exporter": "python",
   "pygments_lexer": "ipython3",
   "version": "3.7.3"
  }
 },
 "nbformat": 4,
 "nbformat_minor": 4
}
