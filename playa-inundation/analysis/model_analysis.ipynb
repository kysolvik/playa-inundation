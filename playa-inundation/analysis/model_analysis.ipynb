{
 "cells": [
  {
   "cell_type": "code",
   "execution_count": null,
   "metadata": {},
   "outputs": [],
   "source": [
    "import pandas as pd\n",
    "import matplotlib.pyplot as plt\n",
    "from sklearn.metrics import log_loss, f1_score, roc_curve, precision_score, recall_score, accuracy_score, auc\n",
    "import numpy as np\n",
    "import datetime as dt\n",
    "import os"
   ]
  },
  {
   "cell_type": "code",
   "execution_count": null,
   "metadata": {},
   "outputs": [],
   "source": [
    "playa_att_df = pd.read_csv('../data/playa_nogeometry_whucs.csv')\n",
    "playa_att_df = playa_att_df.set_index('id')\n",
    "playa_att_df = playa_att_df[['state','acres','countyfips','cluster','farmed','hydromod','healthy', 'huc12', 'author']]\n",
    "playa_att_df['huc4'] = playa_att_df['huc12'].astype(str).str[0:4]"
   ]
  },
  {
   "cell_type": "code",
   "execution_count": null,
   "metadata": {},
   "outputs": [],
   "source": [
    "precip_df = pd.read_csv('../data/prism.csv', usecols=['id','ppt', 'system:index']).rename(columns={'ppt':'precip'})"
   ]
  },
  {
   "cell_type": "code",
   "execution_count": null,
   "metadata": {},
   "outputs": [],
   "source": [
    "precip_df['year'] = precip_df['system:index'].str.slice(0,4).astype('int16')\n",
    "precip_df['month'] = precip_df['system:index'].str.slice(4,6).astype('int16')\n",
    "precip_df['day'] = 1"
   ]
  },
  {
   "cell_type": "code",
   "execution_count": null,
   "metadata": {},
   "outputs": [],
   "source": [
    "precip_df['date'] = pd.to_datetime(precip_df[['year','month', 'day']])\n",
    "precip_df = precip_df.loc[precip_df['date']>=pd.Timestamp('1984-03-01')]\n",
    "precip_df = precip_df.set_index(['id','date']).drop(columns=['year','month','day','system:index'])\n"
   ]
  },
  {
   "cell_type": "code",
   "execution_count": null,
   "metadata": {},
   "outputs": [],
   "source": [
    "pred_df = pd.read_csv('../data/all_preds.csv')"
   ]
  },
  {
   "cell_type": "code",
   "execution_count": null,
   "metadata": {},
   "outputs": [],
   "source": [
    "# Add months and years back in\n",
    "pred_df['date'] = np.tile(pd.date_range('1984-03', periods=418, freq='M'), int(pred_df.shape[0]/418))\n",
    "pred_df = pred_df.set_index(['id','date'])"
   ]
  },
  {
   "cell_type": "markdown",
   "metadata": {},
   "source": [
    "# Basic statistics"
   ]
  },
  {
   "cell_type": "code",
   "execution_count": null,
   "metadata": {},
   "outputs": [],
   "source": [
    "def calc_f1_score(true, pred, cutoff=0.3):\n",
    "    return f1_score(true, pred>cutoff, zero_division=1)"
   ]
  },
  {
   "cell_type": "code",
   "execution_count": null,
   "metadata": {},
   "outputs": [],
   "source": [
    "pred_df['set_flag'] = 2\n",
    "pred_df.loc[pred_df.index.get_level_values(1)<pd.Timestamp('2014-01-01'), 'set_flag'] = 1\n",
    "pred_df.loc[pred_df.index.get_level_values(1)<pd.Timestamp('2010-01-01'), 'set_flag'] = 0"
   ]
  },
  {
   "cell_type": "code",
   "execution_count": null,
   "metadata": {},
   "outputs": [],
   "source": [
    "pred_df = pred_df.assign(pred_binary=pred_df['pred']>0.3)"
   ]
  },
  {
   "cell_type": "code",
   "execution_count": null,
   "metadata": {},
   "outputs": [],
   "source": [
    "test_pred_df = pred_df.loc[pred_df['set_flag']==2]\n",
    "val_pred_df = pred_df.loc[pred_df['set_flag']==1]"
   ]
  },
  {
   "cell_type": "markdown",
   "metadata": {},
   "source": [
    "#### Basic accuracy stats"
   ]
  },
  {
   "cell_type": "code",
   "execution_count": null,
   "metadata": {},
   "outputs": [],
   "source": [
    "print('Val Accuracy: ', accuracy_score(val_pred_df['true'], val_pred_df['pred_binary']))\n",
    "print('Val loss: ',log_loss(val_pred_df['true'], val_pred_df['pred']))\n",
    "print('Val Recall:', recall_score(val_pred_df['true'], val_pred_df['pred_binary']))\n",
    "print('Val Precision:', precision_score(val_pred_df['true'], val_pred_df['pred_binary']))\n",
    "print('Val F1:',calc_f1_score(val_pred_df['true'], val_pred_df['pred']))"
   ]
  },
  {
   "cell_type": "code",
   "execution_count": null,
   "metadata": {},
   "outputs": [],
   "source": [
    "print('Test Accuracy: ', accuracy_score(test_pred_df['true'], test_pred_df['pred_binary']))\n",
    "print('Test loss: ', log_loss(test_pred_df['true'], test_pred_df['pred']))\n",
    "print('Test Recall:', recall_score(test_pred_df['true'], test_pred_df['pred_binary']))\n",
    "print('Test Precision:', precision_score(test_pred_df['true'], test_pred_df['pred_binary']))\n",
    "print('Test F1:',calc_f1_score(test_pred_df['true'], test_pred_df['pred']))"
   ]
  },
  {
   "cell_type": "markdown",
   "metadata": {},
   "source": [
    "#### Baseline using random or all zeros"
   ]
  },
  {
   "cell_type": "code",
   "execution_count": null,
   "metadata": {},
   "outputs": [],
   "source": [
    "print('All 0 Val Accuracy:', accuracy_score(val_pred_df['true'], np.zeros(val_pred_df['true'].shape)))\n",
    "print('All 0 Val Loss:', log_loss(val_pred_df['true'], np.zeros(val_pred_df['true'].shape)))\n",
    "rand_val = np.random.binomial(1, 0.5, val_pred_df['true'].shape)\n",
    "print('Random Val Accuracy:', accuracy_score(val_pred_df['true'], rand_val))\n",
    "print('Random Val Loss:', log_loss(val_pred_df['true'],rand_val))"
   ]
  },
  {
   "cell_type": "code",
   "execution_count": null,
   "metadata": {},
   "outputs": [],
   "source": [
    "print('All 0 test Accuracy:', accuracy_score(test_pred_df['true'], np.zeros(test_pred_df['true'].shape)))\n",
    "print('All 0 test Loss:', log_loss(test_pred_df['true'], np.zeros(test_pred_df['true'].shape)))\n",
    "rand_test = np.random.binomial(1, 0.5, test_pred_df['true'].shape)\n",
    "print('Random test Accuracy:', accuracy_score(test_pred_df['true'], rand_test))\n",
    "print('Random test Loss:', log_loss(test_pred_df['true'],rand_test))"
   ]
  },
  {
   "cell_type": "markdown",
   "metadata": {},
   "source": [
    "# ROC Curves"
   ]
  },
  {
   "cell_type": "code",
   "execution_count": null,
   "metadata": {},
   "outputs": [],
   "source": [
    "fpr, tpr, thresholds = roc_curve(val_pred_df['true'],val_pred_df['pred'])\n",
    "print('Val AUC: ', auc(fpr, tpr))\n",
    "\n",
    "plt.plot(fpr, tpr)\n",
    "plt.xlabel('False Pos Rate')\n",
    "plt.ylabel('True Pos Rate')\n",
    "plt.plot([-1,2], [-1,2], 'k-', lw=1)\n",
    "plt.xlim([-0.02,1.02])\n",
    "plt.ylim([-0.02,1.02])\n",
    "plt.title('Val ROC')\n",
    "plt.show()"
   ]
  },
  {
   "cell_type": "code",
   "execution_count": null,
   "metadata": {},
   "outputs": [],
   "source": [
    "fpr, tpr, thresholds = roc_curve(test_pred_df['true'], test_pred_df['pred'])\n",
    "print('Test AUC: ', auc(fpr, tpr))\n",
    "plt.plot(fpr, tpr)\n",
    "plt.xlabel('False Pos Rate', size=15)\n",
    "plt.ylabel('True Pos Rate',size=15)\n",
    "plt.plot([-1,2], [-1,2], 'k-', lw=1)\n",
    "plt.xlim([-0.02,1.02])\n",
    "plt.ylim([-0.02,1.02])\n",
    "plt.title('Test ROC', size=16)\n",
    "plt.show()"
   ]
  },
  {
   "cell_type": "markdown",
   "metadata": {},
   "source": [
    "# Calculate loss per playa"
   ]
  },
  {
   "cell_type": "code",
   "execution_count": null,
   "metadata": {},
   "outputs": [],
   "source": [
    "# Plot best, worst, and a few in the middle\n",
    "def plot_single_playa_trajectory(df, id):\n",
    "    playa_df = df.loc[id]\n",
    "    playa_df[['true','pred']].plot(figsize=[15,5])\n",
    "    plt.ylim(0,1.2)\n",
    "    plt.axvline(dt.datetime(2014,1,1), color='black')\n",
    "    plt.axvline(dt.datetime(2010,1,1), color='black')\n",
    "    plt.text(dt.datetime(2010,3,1), 1.1, 'Validation', size=14)\n",
    "    plt.text(dt.datetime(2014,3,1), 1.1, 'Test', size=14)\n",
    "    plt.text(dt.datetime(1984,5,1), 1.1, 'Train', size=14)\n",
    "    plt.legend(['True','Predicted'], loc=9, prop={'size':12})\n",
    "    plt.show()"
   ]
  },
  {
   "cell_type": "code",
   "execution_count": null,
   "metadata": {},
   "outputs": [],
   "source": [
    "def plot_precip_trajectory(df, id):\n",
    "    precip_df = df.loc[id]\n",
    "    precip_df['precip'].plot(figsize=[15,5])\n",
    "    plt.axvline(dt.datetime(2014,1,1), color='black')\n",
    "    plt.axvline(dt.datetime(2010,1,1), color='black')\n",
    "    plt.text(dt.datetime(2010,3,1), -0.5, 'Validation', size=14)\n",
    "    plt.text(dt.datetime(2014,3,1), -0.5, 'Test', size=14)\n",
    "    plt.text(dt.datetime(1984,5,1), -0.5, 'Train', size=14)\n",
    "    plt.show()"
   ]
  },
  {
   "cell_type": "markdown",
   "metadata": {},
   "source": [
    "### Test loss only"
   ]
  },
  {
   "cell_type": "code",
   "execution_count": null,
   "metadata": {},
   "outputs": [],
   "source": [
    "max_inun_test = test_pred_df.groupby('id').aggregate({'true':'max'})\n",
    "test_nonzero_ids = max_inun_test.index[max_inun_test['true'].values>0]"
   ]
  },
  {
   "cell_type": "code",
   "execution_count": null,
   "metadata": {},
   "outputs": [],
   "source": [
    "if not os.path.exists('../data/per_playa_test_loss.csv'):# Looping to save some memory\n",
    "    per_loop = 5000\n",
    "    test_starts = np.arange(0, test_pred_df.shape[0], per_loop*48)\n",
    "    per_playa_test_loss_series = pd.Series(dtype='float64')\n",
    "    for start_point in test_starts:\n",
    "        end = min(pred_df.shape[0], start_point + per_loop*48)\n",
    "        temp_loss_series = test_pred_df.iloc[start_point:end].groupby('id').apply(lambda df: log_loss(df['true'],df['pred'], labels=[0,1]))\n",
    "        per_playa_test_loss_series = per_playa_test_loss_series.append(temp_loss_series)\n",
    "        \n",
    "    per_playa_test_loss_series.to_csv('../data/per_playa_test_loss.csv')    \n",
    "else:\n",
    "    per_playa_test_loss_series = pd.read_csv('../data/per_playa_test_loss.csv', names=['id','loss']).iloc[1:].set_index('id')['loss']"
   ]
  },
  {
   "cell_type": "code",
   "execution_count": null,
   "metadata": {},
   "outputs": [],
   "source": [
    "test_nonzero_per_playa_loss = per_playa_test_loss_series.loc[test_nonzero_ids].sort_values()"
   ]
  },
  {
   "cell_type": "code",
   "execution_count": null,
   "metadata": {},
   "outputs": [],
   "source": [
    "plot_single_playa_trajectory(pred_df,test_nonzero_per_playa_loss.index[0])\n",
    "plot_precip_trajectory(precip_df, test_nonzero_per_playa_loss.index[0])"
   ]
  },
  {
   "cell_type": "code",
   "execution_count": null,
   "metadata": {},
   "outputs": [],
   "source": [
    "plot_single_playa_trajectory(pred_df, test_nonzero_per_playa_loss.index[-1])\n",
    "plot_precip_trajectory(precip_df, test_nonzero_per_playa_loss.index[-1])"
   ]
  },
  {
   "cell_type": "code",
   "execution_count": null,
   "metadata": {},
   "outputs": [],
   "source": [
    "plot_single_playa_trajectory(pred_df, test_nonzero_per_playa_loss.index[int(test_nonzero_per_playa_loss.shape[0]/2)])\n",
    "plot_single_playa_trajectory(pred_df, test_nonzero_per_playa_loss.index[int(test_nonzero_per_playa_loss.shape[0]/2)+1])\n",
    "plot_single_playa_trajectory(pred_df, test_nonzero_per_playa_loss.index[int(test_nonzero_per_playa_loss.shape[0]/2)-1])"
   ]
  },
  {
   "cell_type": "markdown",
   "metadata": {},
   "source": [
    "### Test f1"
   ]
  },
  {
   "cell_type": "code",
   "execution_count": null,
   "metadata": {},
   "outputs": [],
   "source": [
    "if not os.path.exists('../data/per_playa_test_f1.csv'):# Looping to save some memory\n",
    "    per_loop = 5000\n",
    "    test_starts = np.arange(0, test_pred_df.shape[0], per_loop*48)\n",
    "    per_playa_test_f1_series = pd.Series(dtype='float64')\n",
    "    for start_point in test_starts:\n",
    "        end = min(pred_df.shape[0], start_point + per_loop*48)\n",
    "        temp_f1_series = test_pred_df.iloc[start_point:end].groupby('id').apply(lambda df: calc_f1_score(df['true'],df['pred']))\n",
    "        per_playa_test_f1_series = per_playa_test_f1_series.append(temp_f1_series)\n",
    "        \n",
    "    per_playa_test_f1_series.to_csv('../data/per_playa_test_f1.csv')    \n",
    "else:\n",
    "    per_playa_test_f1_series = pd.read_csv('../data/per_playa_test_f1.csv', names=['id','f1']).iloc[1:].set_index('id')['f1']"
   ]
  },
  {
   "cell_type": "markdown",
   "metadata": {},
   "source": [
    "### All loss"
   ]
  },
  {
   "cell_type": "code",
   "execution_count": null,
   "metadata": {},
   "outputs": [],
   "source": [
    "max_inun = pred_df.groupby('id').aggregate({'true':'max'})\n",
    "nonzero_ids = max_inun.index[max_inun['true'].values>0]"
   ]
  },
  {
   "cell_type": "code",
   "execution_count": null,
   "metadata": {},
   "outputs": [],
   "source": [
    "pd.DataFrame(max_inun).to_csv('../data/max_inundation.csv')"
   ]
  },
  {
   "cell_type": "code",
   "execution_count": null,
   "metadata": {},
   "outputs": [],
   "source": [
    "if not os.path.exists('../data/per_playa_all_loss.csv'):# Looping to save some memory\n",
    "   # Looping to save some memory\n",
    "    per_loop = 2000\n",
    "    starts = np.arange(0, pred_df.shape[0], per_loop*418)\n",
    "    per_playa_loss_series = pd.Series(dtype='float64')\n",
    "    for start_point in starts:\n",
    "        end = min(pred_df.shape[0], start_point + per_loop*418)\n",
    "        temp_loss_series = pred_df.iloc[start_point:end].groupby('id').apply(lambda df: log_loss(df['true'],df['pred'], labels=[0,1]))\n",
    "        per_playa_loss_series = per_playa_loss_series.append(temp_loss_series)\n",
    "        \n",
    "    per_playa_loss_series.to_csv('../data/per_playa_all_loss.csv')    \n",
    "else:\n",
    "    per_playa_loss_series = pd.read_csv('../data/per_playa_all_loss.csv', names=['id','loss']).iloc[1:].set_index('id')['loss']"
   ]
  },
  {
   "cell_type": "code",
   "execution_count": null,
   "metadata": {},
   "outputs": [],
   "source": [
    "nonzero_per_playa_loss = per_playa_loss_series.loc[nonzero_ids].sort_values()"
   ]
  },
  {
   "cell_type": "code",
   "execution_count": null,
   "metadata": {},
   "outputs": [],
   "source": [
    "plot_single_playa_trajectory(pred_df,nonzero_per_playa_loss.index[0])\n",
    "plot_precip_trajectory(precip_df,nonzero_per_playa_loss.index[0])"
   ]
  },
  {
   "cell_type": "code",
   "execution_count": null,
   "metadata": {},
   "outputs": [],
   "source": [
    "plot_single_playa_trajectory(pred_df, nonzero_per_playa_loss.index[-1])\n",
    "plot_precip_trajectory(precip_df,nonzero_per_playa_loss.index[-1])"
   ]
  },
  {
   "cell_type": "code",
   "execution_count": null,
   "metadata": {},
   "outputs": [],
   "source": [
    "plot_single_playa_trajectory(pred_df, nonzero_per_playa_loss.index[int(nonzero_per_playa_loss.shape[0]/2)])\n",
    "plot_single_playa_trajectory(pred_df, nonzero_per_playa_loss.index[int(nonzero_per_playa_loss.shape[0]/2)+1])\n",
    "plot_single_playa_trajectory(pred_df, nonzero_per_playa_loss.index[int(nonzero_per_playa_loss.shape[0]/2)-1])"
   ]
  },
  {
   "cell_type": "markdown",
   "metadata": {},
   "source": [
    "# Playa Inundation over time (predicted vs real)"
   ]
  },
  {
   "cell_type": "code",
   "execution_count": null,
   "metadata": {},
   "outputs": [],
   "source": [
    "pred_df[['true','pred_binary']].groupby('date').mean().plot(figsize=[15,5])\n",
    "plt.axvline(dt.datetime(2014,1,1), color='black')\n",
    "plt.axvline(dt.datetime(2010,1,1), color='black')\n",
    "plt.text(dt.datetime(2010,3,1), 0.14, 'Validation', size=15)\n",
    "plt.text(dt.datetime(2014,3,1), 0.14, 'Test', size=15)\n",
    "plt.text(dt.datetime(1984,5,1), 0.14, 'Train', size=15)\n",
    "plt.legend(['True','Predicted'], loc=9)\n",
    "plt.ylim([0,0.15])\n",
    "plt.show()\n",
    "\n",
    "precip_df[['precip']].groupby('date').mean().plot(figsize=[15,5])\n",
    "plt.axvline(dt.datetime(2014,1,1), color='black')\n",
    "plt.axvline(dt.datetime(2010,1,1), color='black')\n",
    "plt.text(dt.datetime(2010,3,1), -0.5, 'Validation', size=15)\n",
    "plt.text(dt.datetime(2014,3,1), -0.5, 'Test', size=15)\n",
    "plt.text(dt.datetime(1984,5,1), -0.5 'Train', size=15)\n",
    "plt.show()"
   ]
  },
  {
   "cell_type": "markdown",
   "metadata": {},
   "source": [
    "# Spatial representation of val/test error"
   ]
  },
  {
   "cell_type": "code",
   "execution_count": null,
   "metadata": {},
   "outputs": [],
   "source": [
    "test_pred_df = test_pred_df.reset_index().set_index('id')\n",
    "val_pred_df = val_pred_df.reset_index().set_index('id')"
   ]
  },
  {
   "cell_type": "code",
   "execution_count": null,
   "metadata": {},
   "outputs": [],
   "source": [
    "test_pred_df = test_pred_df.join(playa_att_df, how='inner')\n",
    "val_pred_df = val_pred_df.join(playa_att_df, how='inner')"
   ]
  },
  {
   "cell_type": "markdown",
   "metadata": {},
   "source": [
    "## By state to start"
   ]
  },
  {
   "cell_type": "code",
   "execution_count": null,
   "metadata": {},
   "outputs": [],
   "source": [
    "state_test_loss = test_pred_df.groupby('state').apply(lambda df: log_loss(df['true'],df['pred'], labels=[0,1]))\n",
    "state_val_loss = val_pred_df.groupby('state').apply(lambda df: log_loss(df['true'],df['pred'], labels=[0,1]))\n",
    "state_test_f1 = test_pred_df.groupby('state').apply(lambda df: calc_f1_score(df['true'],df['pred']))\n",
    "state_val_f1 = val_pred_df.groupby('state').apply(lambda df: calc_f1_score(df['true'],df['pred']))\n",
    "state_count = playa_att_df.groupby('state').size()"
   ]
  },
  {
   "cell_type": "code",
   "execution_count": null,
   "metadata": {},
   "outputs": [],
   "source": [
    "fig, ax = plt.subplots(2,3, figsize=[15,8])\n",
    "state_count.plot.bar(ax=ax[0,0], title='Playa Count')\n",
    "state_val_loss.plot.bar(ax=ax[0,1], title='Val Loss')\n",
    "state_val_f1.plot.bar(ax=ax[0,2], title='Val F1')\n",
    "state_test_loss.plot.bar(ax=ax[1,1], title='Test Loss')\n",
    "state_test_f1.plot.bar(ax=ax[1,2], title='Test F1')\n",
    "fig.tight_layout()"
   ]
  },
  {
   "cell_type": "markdown",
   "metadata": {},
   "source": [
    "## By HUC 4"
   ]
  },
  {
   "cell_type": "code",
   "execution_count": null,
   "metadata": {},
   "outputs": [],
   "source": [
    "huc_test_loss = test_pred_df.groupby('huc4').apply(lambda df: log_loss(df['true'],df['pred'], labels=[0,1]))\n",
    "huc_val_loss = val_pred_df.groupby('huc4').apply(lambda df: log_loss(df['true'],df['pred'], labels=[0,1]))\n",
    "huc_test_f1 = test_pred_df.groupby('huc4').apply(lambda df: calc_f1_score(df['true'],df['pred']))\n",
    "huc_val_f1 = val_pred_df.groupby('huc4').apply(lambda df: calc_f1_score(df['true'],df['pred']))\n",
    "huc_count = playa_att_df.groupby('huc4').size()"
   ]
  },
  {
   "cell_type": "code",
   "execution_count": null,
   "metadata": {},
   "outputs": [],
   "source": [
    "fig, ax = plt.subplots(2,3, figsize=[15,8])\n",
    "huc_count.plot.bar(ax=ax[0,0], title='HUC4 Playa Count')\n",
    "huc_val_loss.plot.bar(ax=ax[0,1], title='Val Loss')\n",
    "huc_val_f1.plot.bar(ax=ax[0,2], title='Val F1')\n",
    "huc_test_loss.plot.bar(ax=ax[1,1], title='Test Loss')\n",
    "huc_test_f1.plot.bar(ax=ax[1,2], title='Test F1')\n",
    "fig.tight_layout()"
   ]
  },
  {
   "cell_type": "markdown",
   "metadata": {},
   "source": [
    "## By Author"
   ]
  },
  {
   "cell_type": "code",
   "execution_count": null,
   "metadata": {},
   "outputs": [],
   "source": [
    "author_test_loss = test_pred_df.groupby('author').apply(lambda df: log_loss(df['true'],df['pred'], labels=[0,1]))\n",
    "author_val_loss = val_pred_df.groupby('author').apply(lambda df: log_loss(df['true'],df['pred'], labels=[0,1]))\n",
    "author_test_f1 = test_pred_df.groupby('author').apply(lambda df: calc_f1_score(df['true'],df['pred']))\n",
    "author_val_f1 = val_pred_df.groupby('author').apply(lambda df: calc_f1_score(df['true'],df['pred']))\n",
    "author_count = playa_att_df.groupby('author').size()"
   ]
  },
  {
   "cell_type": "code",
   "execution_count": null,
   "metadata": {},
   "outputs": [],
   "source": [
    "fig, ax = plt.subplots(2,3, figsize=[15,10])\n",
    "author_count.plot.bar(ax=ax[0,0], title='Author Playa Count', rot=45)\n",
    "author_val_loss.plot.bar(ax=ax[0,1], title='Val Loss', rot=45)\n",
    "author_val_f1.plot.bar(ax=ax[0,2], title='Val F1', rot=45)\n",
    "author_test_loss.plot.bar(ax=ax[1,1], title='Test Loss', rot=45)\n",
    "author_test_f1.plot.bar(ax=ax[1,2], title='Test F1', rot=45)\n",
    "fig.tight_layout()"
   ]
  }
 ],
 "metadata": {
  "kernelspec": {
   "display_name": "playa_venv",
   "language": "python",
   "name": "playa_venv"
  },
  "language_info": {
   "codemirror_mode": {
    "name": "ipython",
    "version": 3
   },
   "file_extension": ".py",
   "mimetype": "text/x-python",
   "name": "python",
   "nbconvert_exporter": "python",
   "pygments_lexer": "ipython3",
   "version": "3.7.3"
  }
 },
 "nbformat": 4,
 "nbformat_minor": 4
}
