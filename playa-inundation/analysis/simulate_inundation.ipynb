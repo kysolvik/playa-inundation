{
 "cells": [
  {
   "cell_type": "code",
   "execution_count": null,
   "metadata": {},
   "outputs": [],
   "source": [
    "import pandas as pd\n",
    "import matplotlib.pyplot as plt\n",
    "import numpy as np\n",
    "import datetime as dt\n",
    "import os"
   ]
  },
  {
   "cell_type": "code",
   "execution_count": null,
   "metadata": {},
   "outputs": [],
   "source": [
    "np.random.seed(5)"
   ]
  },
  {
   "cell_type": "code",
   "execution_count": null,
   "metadata": {},
   "outputs": [],
   "source": [
    "n_playa = 71848 # 71848 is all of them\n",
    "n_iter = 100"
   ]
  },
  {
   "cell_type": "code",
   "execution_count": null,
   "metadata": {},
   "outputs": [],
   "source": [
    "reload_run = True"
   ]
  },
  {
   "cell_type": "markdown",
   "metadata": {},
   "source": [
    "# Load data"
   ]
  },
  {
   "cell_type": "code",
   "execution_count": null,
   "metadata": {},
   "outputs": [],
   "source": [
    "pred_df = pd.read_csv('../data/all_preds.csv')\n",
    "# Add months and years back in\n",
    "pred_df['date'] = np.tile(pd.date_range('1984-03', periods=418, freq='M'), int(pred_df.shape[0]/418))\n",
    "pred_df = pred_df.set_index(['id','date'])"
   ]
  },
  {
   "cell_type": "markdown",
   "metadata": {},
   "source": [
    "# Make plots"
   ]
  },
  {
   "cell_type": "code",
   "execution_count": null,
   "metadata": {},
   "outputs": [],
   "source": [
    "def simulate_inundation(pred_df, n_playa, n_iter, n_time=418):\n",
    "    binary_histories = np.zeros(shape = (n_playa, n_time, n_iter), dtype=np.byte) - 1\n",
    "    for i in range(n_iter):\n",
    "        binary_histories[:, :, i] = np.random.binomial(\n",
    "            n=1,\n",
    "            p=pred_df['pred'].values.reshape([n_playa, n_time])\n",
    "        )\n",
    "        if i % 10 == 0:\n",
    "            print(n_iter, 'done')\n",
    "        \n",
    "    # Checks\n",
    "    assert binary_histories.shape == (n_playa, n_time, n_iter)\n",
    "    assert binary_histories.min() == 0.\n",
    "    assert binary_histories.max() == 1.\n",
    "\n",
    "    # we expect no values between 0 and 1\n",
    "    # Had to comment out because it duplicates the array and exceeds memory\n",
    "    # But checked it on smaller test cases and it should be good\n",
    "    \n",
    "    # assert not np.logical_and(binary_histories > 0, binary_histories < 1).any()\n",
    "    return binary_histories\n"
   ]
  },
  {
   "cell_type": "code",
   "execution_count": null,
   "metadata": {},
   "outputs": [],
   "source": [
    "if reload_run and os.path.exists('./frac_inundated.npy'):\n",
    "    frac_inundated = np.load('./frac_inundated.npy')\n",
    "else:\n",
    "    if n_playa < 71848:\n",
    "        binary_histories = simulate_inundation(pred_df.iloc[0:(418*n_playa)], n_playa, n_iter)\n",
    "    else: \n",
    "        binary_histories = simulate_inundation(pred_df, n_playa, n_iter)\n",
    "        \n",
    "    frac_inundated = np.mean(binary_histories, axis=0)\n"
   ]
  },
  {
   "cell_type": "code",
   "execution_count": null,
   "metadata": {},
   "outputs": [],
   "source": [
    "inundation_sd = np.std(frac_inundated, axis=1)\n",
    "inundation_mean_of_means = np.mean(frac_inundated, axis=1)\n",
    "inundation_975 = np.percentile(frac_inundated, 0.975, axis=1)\n",
    "inundation_025 = np.percentile(frac_inundated, 0.975, axis=1)"
   ]
  },
  {
   "cell_type": "code",
   "execution_count": null,
   "metadata": {},
   "outputs": [],
   "source": [
    "# plot all of the draws for the fraction inundated\n",
    "dates = pred_df.index.get_level_values(1)[:418]\n",
    "fig, ax = plt.subplots(figsize=[15,5])\n",
    "plt.plot(dates, pred_df['true'].groupby('date').mean().values, label='True')\n",
    "\n",
    "plt.plot(dates, inundation_mean_of_means + 10*inundation_sd, label='Mean +/- 10*SD', \n",
    "         linestyle='--', color='darkorange', linewidth=1)\n",
    "plt.plot(dates, inundation_mean_of_means - 10*inundation_sd, \n",
    "         linestyle='--', color='darkorange', linewidth=1)\n",
    "plt.plot(dates, inundation_mean_of_means, label='Mean Pred', color='red')\n",
    "\n",
    "\n",
    "# Commenting out spreads, not very interesting\n",
    "# plt.plot(dates, inundation_975, label='97.5%')\n",
    "# plt.plot(dates, inundation_025, label='2.5%')\n",
    "plt.legend()\n",
    "plt.xlabel(\"Time\")\n",
    "plt.ylabel(\"Fraction inundated\")\n",
    "plt.axvline(dt.datetime(2014,1,1), color='black')\n",
    "plt.axvline(dt.datetime(2010,1,1), color='black')\n",
    "plt.text(dt.datetime(2010,3,1), 0.135, 'Validation', size=15)\n",
    "plt.text(dt.datetime(2014,3,1), 0.135, 'Test', size=15)\n",
    "plt.text(dt.datetime(1984,5,1), 0.135, 'Train', size=15)\n",
    "plt.show()\n"
   ]
  },
  {
   "cell_type": "code",
   "execution_count": null,
   "metadata": {},
   "outputs": [],
   "source": [
    "# Write frac_inundated to file to save time\n",
    "np.save('./frac_inundated.npy', frac_inundated)"
   ]
  }
 ],
 "metadata": {
  "kernelspec": {
   "display_name": "playa_venv",
   "language": "python",
   "name": "playa_venv"
  },
  "language_info": {
   "codemirror_mode": {
    "name": "ipython",
    "version": 3
   },
   "file_extension": ".py",
   "mimetype": "text/x-python",
   "name": "python",
   "nbconvert_exporter": "python",
   "pygments_lexer": "ipython3",
   "version": "3.7.3"
  }
 },
 "nbformat": 4,
 "nbformat_minor": 4
}
