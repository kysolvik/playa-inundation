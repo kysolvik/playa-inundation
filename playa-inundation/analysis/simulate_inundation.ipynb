{
 "cells": [
  {
   "cell_type": "code",
   "execution_count": null,
   "metadata": {},
   "outputs": [],
   "source": [
    "import pandas as pd\n",
    "import matplotlib.pyplot as plt\n",
    "import numpy as np\n",
    "import datetime as dt\n",
    "import os"
   ]
  },
  {
   "cell_type": "code",
   "execution_count": null,
   "metadata": {},
   "outputs": [],
   "source": [
    "np.random.seed(5)"
   ]
  },
  {
   "cell_type": "code",
   "execution_count": null,
   "metadata": {},
   "outputs": [],
   "source": [
    "n_playa = 71848 # 71848 is all of them\n",
    "n_iter = 1000"
   ]
  },
  {
   "cell_type": "code",
   "execution_count": null,
   "metadata": {},
   "outputs": [],
   "source": [
    "reload_run = True"
   ]
  },
  {
   "cell_type": "markdown",
   "metadata": {},
   "source": [
    "# Load data"
   ]
  },
  {
   "cell_type": "code",
   "execution_count": null,
   "metadata": {},
   "outputs": [],
   "source": [
    "pred_df = pd.read_csv('../data/all_preds.csv')\n",
    "# Add months and years back in\n",
    "pred_df['date'] = np.tile(pd.date_range('1984-03', periods=418, freq='M'), int(pred_df.shape[0]/418))\n",
    "pred_df = pred_df.set_index(['id','date'])"
   ]
  },
  {
   "cell_type": "markdown",
   "metadata": {},
   "source": [
    "# Make plots"
   ]
  },
  {
   "cell_type": "code",
   "execution_count": null,
   "metadata": {},
   "outputs": [],
   "source": [
    "def simulate_inundation(pred_df, n_playa, n_iter, n_time=418):\n",
    "    frac_inundated = np.zeros(shape = (n_time, n_iter), dtype=np.float) - 1\n",
    "    for i in range(n_iter):\n",
    "        binary_run = np.random.binomial(\n",
    "            n=1,\n",
    "            p=pred_df['pred'].values.reshape([n_playa, n_time])\n",
    "        )\n",
    "        assert binary_run.min() == 0.\n",
    "        assert binary_run.max() == 1.\n",
    "        assert binary_run.shape == (n_playa, n_time)\n",
    "        frac_inundated[:,i] = np.mean(binary_run, axis=0)\n",
    "        if i % 100 == 0:\n",
    "            print(i, 'done')\n",
    "            \n",
    "        \n",
    "    # Checks, commenting out because too much memory usage\n",
    "#     assert frac_inundated.shape == (n_time, n_iter)\n",
    "#     assert frac_inundated.min() > 0.\n",
    "#     assert frac_inundated.max() < 1.\n",
    "\n",
    "    \n",
    "    return frac_inundated\n"
   ]
  },
  {
   "cell_type": "code",
   "execution_count": null,
   "metadata": {},
   "outputs": [],
   "source": [
    "if reload_run and os.path.exists('./frac_inundated.npy'):\n",
    "    frac_inundated = np.load('./frac_inundated.npy')\n",
    "else:\n",
    "    if n_playa < 71848:\n",
    "        frac_inundated = simulate_inundation(pred_df.iloc[0:(418*n_playa)], n_playa, n_iter)\n",
    "    else: \n",
    "        frac_inundated = simulate_inundation(pred_df, n_playa, n_iter)\n",
    "        "
   ]
  },
  {
   "cell_type": "code",
   "execution_count": null,
   "metadata": {},
   "outputs": [],
   "source": [
    "inundation_sd = np.std(frac_inundated, axis=1)\n",
    "inundation_mean_of_means = np.mean(frac_inundated, axis=1)\n",
    "inundation_975 = np.percentile(frac_inundated, 0.975, axis=1)\n",
    "inundation_025 = np.percentile(frac_inundated, 0.975, axis=1)\n",
    "inundation_min = np.min(frac_inundated, axis=1)\n",
    "inundation_max = np.max(frac_inundated, axis=1)"
   ]
  },
  {
   "cell_type": "code",
   "execution_count": null,
   "metadata": {},
   "outputs": [],
   "source": [
    "np.mean(frac_inundated[5])"
   ]
  },
  {
   "cell_type": "code",
   "execution_count": null,
   "metadata": {},
   "outputs": [],
   "source": [
    "np.max(frac_inundated[5])"
   ]
  },
  {
   "cell_type": "code",
   "execution_count": null,
   "metadata": {},
   "outputs": [],
   "source": [
    "plt.hist(frac_inundated[5])"
   ]
  },
  {
   "cell_type": "code",
   "execution_count": null,
   "metadata": {},
   "outputs": [],
   "source": [
    "# plot all of the draws for the fraction inundated\n",
    "dates = pred_df.index.get_level_values(1)[:418]\n",
    "fig, ax = plt.subplots(figsize=[15,3.5])\n",
    "plt.plot(dates, pred_df['true'].groupby('date').mean().values, label='True',linewidth=1.25)\n",
    "\n",
    "# plt.plot(dates, inundation_min, label='Predicted Range', \n",
    "#          linestyle='--', color='darkorange', linewidth=1)\n",
    "# plt.plot(dates, inundation_max, \n",
    "#          linestyle='--', color='darkorange', linewidth=1)\n",
    "plt.plot(dates, inundation_mean_of_means, label='Predicted', color='red', linewidth=1.25)\n",
    "\n",
    "\n",
    "# Commenting out spreads, not very interesting\n",
    "# plt.plot(dates, inundation_975, label='97.5%')\n",
    "# plt.plot(dates, inundation_025, label='2.5%')\n",
    "plt.legend(loc=(0.47, 0.74), prop={'size':14})\n",
    "plt.xlabel(\"Date\", size=15)\n",
    "plt.ylabel(\"Fraction inundated\",size=15)\n",
    "plt.xlim(dt.datetime(1984,1,1), dt.datetime(2019,1,1))\n",
    "plt.axvline(dt.datetime(2015,1,1), color='black')\n",
    "plt.axvline(dt.datetime(2011,1,1), color='black')\n",
    "plt.text(dt.datetime(2011,3,1), 0.135, 'Validation', size=15)\n",
    "plt.text(dt.datetime(2015,3,1), 0.135, 'Test', size=15)\n",
    "plt.text(dt.datetime(1984,3,1), 0.135, 'Train', size=15)\n",
    "plt.show()\n"
   ]
  },
  {
   "cell_type": "code",
   "execution_count": null,
   "metadata": {},
   "outputs": [],
   "source": [
    "# Write frac_inundated to file to save time\n",
    "np.save('./frac_inundated.npy', frac_inundated)"
   ]
  }
 ],
 "metadata": {
  "kernelspec": {
   "display_name": "playa_venv",
   "language": "python",
   "name": "playa_venv"
  },
  "language_info": {
   "codemirror_mode": {
    "name": "ipython",
    "version": 3
   },
   "file_extension": ".py",
   "mimetype": "text/x-python",
   "name": "python",
   "nbconvert_exporter": "python",
   "pygments_lexer": "ipython3",
   "version": "3.7.3"
  }
 },
 "nbformat": 4,
 "nbformat_minor": 4
}
