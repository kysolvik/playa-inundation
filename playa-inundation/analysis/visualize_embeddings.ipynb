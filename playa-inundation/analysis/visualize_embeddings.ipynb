{
 "cells": [
  {
   "cell_type": "code",
   "execution_count": null,
   "metadata": {},
   "outputs": [],
   "source": [
    "import torch\n",
    "from torch.utils.tensorboard import SummaryWriter\n",
    "import pandas as pd\n",
    "import numpy as np"
   ]
  },
  {
   "cell_type": "code",
   "execution_count": null,
   "metadata": {},
   "outputs": [],
   "source": [
    "playa_att_df = pd.read_csv('../data/playa_nogeometry_whucs.csv')"
   ]
  },
  {
   "cell_type": "code",
   "execution_count": null,
   "metadata": {},
   "outputs": [],
   "source": [
    "# Convert HUC and author to int codes: (using huc8 instead of huc12)\n",
    "playa_att_df['huc8'] = playa_att_df['huc12'].astype(str).str[0:8]\n",
    "playa_att_df['huc8'] = playa_att_df['huc8'].astype('category').cat.codes"
   ]
  },
  {
   "cell_type": "code",
   "execution_count": null,
   "metadata": {},
   "outputs": [],
   "source": [
    "huc_states = playa_att_df[['state','huc8']].groupby('huc8').first()"
   ]
  },
  {
   "cell_type": "code",
   "execution_count": null,
   "metadata": {},
   "outputs": [],
   "source": [
    "id_metadata = pd.DataFrame({'id':range(playa_att_df['id'].max())})\n",
    "id_metadata = id_metadata.set_index('id').join(\n",
    "    playa_att_df[['id','state', 'hydromod','farmed','healthy']].groupby('id').first(), how='outer')\n",
    "id_metadata = id_metadata.fillna('NA')"
   ]
  },
  {
   "cell_type": "code",
   "execution_count": null,
   "metadata": {},
   "outputs": [],
   "source": [
    "writer = SummaryWriter()"
   ]
  },
  {
   "cell_type": "code",
   "execution_count": null,
   "metadata": {},
   "outputs": [],
   "source": [
    "model_weights_dict = torch.load('./model_weights.pytorch',map_location=torch.device('cpu'))"
   ]
  },
  {
   "cell_type": "code",
   "execution_count": null,
   "metadata": {},
   "outputs": [],
   "source": [
    "writer.add_embedding(model_weights_dict['author_embedding.weight'], tag='author',\n",
    "                     metadata=['PLJV', 'RMBO', 'Texas Tech University', 'USFWS', 'University of Kansas'])\n",
    "writer.add_embedding(model_weights_dict['huc_embedding.weight'], tag='huc',\n",
    "                    metadata=huc_states['state'].values)\n",
    "writer.add_embedding(model_weights_dict['id_embedding.weight'], tag='id',\n",
    "                     metadata=id_metadata['state'].values)\n",
    "writer.add_embedding(model_weights_dict['id_embedding.weight'], tag='id_hydromod',\n",
    "                     metadata=id_metadata['hydromod'].values)\n",
    "writer.add_embedding(model_weights_dict['id_embedding.weight'], tag='id_healthy',\n",
    "                     metadata=id_metadata['healthy'].values)\n",
    "writer.add_embedding(model_weights_dict['id_embedding.weight'], tag='id_farmed',\n",
    "                     metadata=id_metadata['farmed'].values)\n",
    "writer.close()\n"
   ]
  }
 ],
 "metadata": {
  "kernelspec": {
   "display_name": "playa_venv",
   "language": "python",
   "name": "playa_venv"
  },
  "language_info": {
   "codemirror_mode": {
    "name": "ipython",
    "version": 3
   },
   "file_extension": ".py",
   "mimetype": "text/x-python",
   "name": "python",
   "nbconvert_exporter": "python",
   "pygments_lexer": "ipython3",
   "version": "3.7.3"
  }
 },
 "nbformat": 4,
 "nbformat_minor": 4
}
