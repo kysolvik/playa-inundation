{
 "cells": [
  {
   "cell_type": "markdown",
   "metadata": {},
   "source": [
    "# Testing basic linear model performance, baseline"
   ]
  },
  {
   "cell_type": "code",
   "execution_count": null,
   "metadata": {},
   "outputs": [],
   "source": [
    "import sklearn\n",
    "from sklearn.linear_model import LinearRegression\n",
    "import pandas as pd\n",
    "import glob\n",
    "import matplotlib.pyplot as plt\n",
    "import numpy as np\n",
    "import sklearn.metrics as skm\n",
    "np.random.seed(51)"
   ]
  },
  {
   "cell_type": "markdown",
   "metadata": {},
   "source": [
    "# Per-county LM"
   ]
  },
  {
   "cell_type": "code",
   "execution_count": null,
   "metadata": {},
   "outputs": [],
   "source": [
    "def split_train_test_val(df, year_col='year'):\n",
    "    train_df = df.loc[df[year_col]<=2010]\n",
    "    val_df = df.loc[(df[year_col]>2010) & (df[year_col]<=2014)]\n",
    "    test_df = df.loc[df[year_col]>2014]\n",
    "    return train_df, val_df, test_df"
   ]
  },
  {
   "cell_type": "code",
   "execution_count": null,
   "metadata": {},
   "outputs": [],
   "source": [
    "def train_county_lm(inun_csv):\n",
    "    \"\"\"\n",
    "    Fits a basic county multilinear reg model\n",
    "    \n",
    "    Inputs:\n",
    "        inun_csv (str): Path to inundation csv. Weather csv need must be in same dir\n",
    "    \n",
    "    Outputs:\n",
    "        LinearRegression() model: returns the model\n",
    "        Will also print out the validation R^2 and plot val predicted vs true inundation\n",
    "    \"\"\"\n",
    "    weather_csv = inun_csv.replace('inun_frac_','weather_')\n",
    "    inun_df = pd.read_csv(inun_csv)\n",
    "    weather_df = pd.read_csv(weather_csv)\n",
    "    joined_df = weather_df.set_index(['id','year','month']).join(inun_df.set_index(['id','year','month']))\n",
    "    joined_df = joined_df.assign(year=joined_df.index.get_level_values(1))\n",
    "\n",
    "    joined_df = joined_df.loc[~joined_df['inundation'].isna()]\n",
    "    train_df, val_df, test_df = split_train_test_val(joined_df)\n",
    "\n",
    "    # Get predictors and target var for train\n",
    "    X = train_df[['area', 'precip', 'temp', 'vpd']]\n",
    "    y = train_df['inundation']\n",
    "    \n",
    "    # For val\n",
    "    X_val = val_df[['area', 'precip', 'temp', 'vpd']]\n",
    "    y_val = val_df['inundation']\n",
    "    \n",
    "    # For test (not using yet)\n",
    "    X_test = test_df[['area', 'precip', 'temp', 'vpd']]\n",
    "    y_test = test_df['inundation']\n",
    "\n",
    "\n",
    "    reg = LinearRegression().fit(X, y)\n",
    "    pred_val = reg.predict(X_val)\n",
    "    num_playas = joined_df.index.get_level_values(0).unique().shape[0]\n",
    "    print('{} Total Playas in County'.format(num_playas))\n",
    "    print('Val R^2 = {}'.format(reg.score(X_val, y_val)))\n",
    "    print('Val MSE = {}'.format(skm.mean_squared_error(pred_val, y_val)))\n",
    "    print('Val RMSE = {}'.format(np.sqrt(skm.mean_squared_error(pred_val, y_val))))\n",
    "\n",
    "    plt.scatter(y_val, pred_val)\n",
    "    plt.xlabel('True Inun')\n",
    "    plt.ylabel('Predicted Inun')\n",
    "    plt.show()\n",
    "    return reg"
   ]
  },
  {
   "cell_type": "code",
   "execution_count": null,
   "metadata": {},
   "outputs": [],
   "source": [
    "inun_csv_list = glob.glob('../data/state_county_csvs/counties/inun_frac*')"
   ]
  },
  {
   "cell_type": "code",
   "execution_count": null,
   "metadata": {},
   "outputs": [],
   "source": [
    "rand_csv = np.random.choice(inun_csv_list)\n",
    "train_county_lm(rand_csv)"
   ]
  },
  {
   "cell_type": "markdown",
   "metadata": {},
   "source": [
    "# Per-playa LM"
   ]
  }
 ],
 "metadata": {
  "kernelspec": {
   "display_name": "playa_venv",
   "language": "python",
   "name": "playa_venv"
  },
  "language_info": {
   "codemirror_mode": {
    "name": "ipython",
    "version": 3
   },
   "file_extension": ".py",
   "mimetype": "text/x-python",
   "name": "python",
   "nbconvert_exporter": "python",
   "pygments_lexer": "ipython3",
   "version": "3.7.3"
  }
 },
 "nbformat": 4,
 "nbformat_minor": 4
}
