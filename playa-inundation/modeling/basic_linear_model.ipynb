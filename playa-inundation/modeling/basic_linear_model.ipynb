{
 "cells": [
  {
   "cell_type": "markdown",
   "metadata": {},
   "source": [
    "# Testing basic linear model performance, baseline"
   ]
  },
  {
   "cell_type": "code",
   "execution_count": null,
   "metadata": {},
   "outputs": [],
   "source": [
    "import sklearn\n",
    "from sklearn.linear_model import LinearRegression\n",
    "import pandas as pd\n",
    "import glob\n",
    "import matplotlib.pyplot as plt\n",
    "import numpy as np\n",
    "import sklearn.metrics as skm\n",
    "np.random.seed(51)"
   ]
  },
  {
   "cell_type": "markdown",
   "metadata": {},
   "source": [
    "# Per-county LM"
   ]
  },
  {
   "cell_type": "code",
   "execution_count": null,
   "metadata": {},
   "outputs": [],
   "source": [
    "def split_train_test_val(df, year_col='year'):\n",
    "    train_df = df.loc[df[year_col]<=2010]\n",
    "    val_df = df.loc[(df[year_col]>2010) & (df[year_col]<=2014)]\n",
    "    test_df = df.loc[df[year_col]>2014]\n",
    "    return train_df, val_df, test_df"
   ]
  },
  {
   "cell_type": "code",
   "execution_count": null,
   "metadata": {},
   "outputs": [],
   "source": [
    "def train_county_lm(\n",
    "    inun_csv,\n",
    "    pred_cols=['acres', 'precip', 'temp', 'vpd', 'last_precip','last_temp','last_vpd'],\n",
    "    drop_zeros=True,\n",
    "    plot_results=True):\n",
    "    \"\"\"\n",
    "    Fits a basic county multilinear reg model\n",
    "    \n",
    "    Inputs:\n",
    "        inun_csv (str): Path to inundation csv. Weather csv need must be in same dir\n",
    "        pred_cols (list): List of strings with column names to use as prediction.\n",
    "        drop_zeros (bool): True/False drop playas that are all zeros\n",
    "    \n",
    "    Outputs:\n",
    "        output_dict (dict): state and county ids, number of playas, r2, mse, rmse, and mae\n",
    "        Will also print out the validation R^2 and plot val predicted vs true inundation\n",
    "    \"\"\"\n",
    "    \n",
    "    # Set up output\n",
    "    county_id = inun_csv.split('_')[-1][:-4]\n",
    "    state = inun_csv.split('_')[-2]\n",
    "    output_dict = {\n",
    "        'state':state,\n",
    "        'county_fips':county_id,\n",
    "        'num_playas':0,\n",
    "        'r2':0,\n",
    "        'mse':0,\n",
    "        'rmse':0,\n",
    "        'mae':0}\n",
    "\n",
    "    \n",
    "    # Prep inundation data\n",
    "    inun_df = pd.read_csv(inun_csv)\n",
    "    inun_df.set_index(['id','year','month'], inplace=True)\n",
    "    inun_df = inun_df.loc[~inun_df['inundation'].isna()]\n",
    "    if drop_zeros:\n",
    "        max_inun = inun_df.groupby('id').agg({'inundation':'max'})\n",
    "        zero_ids = max_inun.loc[max_inun['inundation']==0].index\n",
    "        inun_df.drop(zero_ids, inplace=True)\n",
    "        if inun_df.shape[0]==0:\n",
    "            return output_dict\n",
    "        \n",
    "    # Prep weather data\n",
    "    weather_csv = inun_csv.replace('inun_frac_','weather_')\n",
    "    weather_df = pd.read_csv(weather_csv)\n",
    "    weather_df.set_index(['id','year','month'], inplace=True)\n",
    "    weather_last = weather_df.groupby('id').shift(1)\n",
    "    weather_df = weather_df.assign(last_temp=weather_last['temp'], last_precip=weather_last['precip'], last_vpd=weather_last['vpd'])\n",
    "    joined_df = weather_df.join(inun_df, how='inner')\n",
    "    joined_df = joined_df.assign(year=joined_df.index.get_level_values(1))\n",
    "\n",
    "    train_df, val_df, test_df = split_train_test_val(joined_df)\n",
    "\n",
    "    # Get predictors and target var for train\n",
    "    X = train_df[pred_cols]\n",
    "    y = train_df['inundation']\n",
    "    \n",
    "    # For val\n",
    "    X_val = val_df[pred_cols]\n",
    "    y_val = val_df['inundation']\n",
    "    \n",
    "    # For test (not using yet)\n",
    "    # X_test = test_df[pred_cols]\n",
    "    # y_test = test_df['inundation']\n",
    "\n",
    "\n",
    "    reg = LinearRegression().fit(X, y)\n",
    "    pred_val = reg.predict(X_val)\n",
    "    num_playas = joined_df.index.get_level_values(0).unique().shape[0]\n",
    "\n",
    "    output_dict['num_playas'] = num_playas\n",
    "    output_dict['r2'] = reg.score(X_val, y_val)\n",
    "    output_dict['mse'] = skm.mean_squared_error(pred_val, y_val)\n",
    "    output_dict['rmse'] = np.sqrt(output_dict['mse'])\n",
    "    output_dict['mae'] = skm.mean_absolute_error(pred_val, y_val)\n",
    "\n",
    "    if plot_results:\n",
    "        print('{} Total Playas in County'.format(num_playas))\n",
    "        print('Val R^2 = {}'.format(output_dict['r2']))\n",
    "        print('Val RMSE = {}'.format(output_dict['rmse']))\n",
    "        print('Val MAE = {}'.format(output_dict['mae']))\n",
    "\n",
    "\n",
    "        plt.scatter(y_val, pred_val)\n",
    "        plt.xlabel('True Inun')\n",
    "        plt.ylabel('Predicted Inun')\n",
    "        plt.show()\n",
    "    return output_dict"
   ]
  },
  {
   "cell_type": "code",
   "execution_count": null,
   "metadata": {},
   "outputs": [],
   "source": [
    "inun_csv_list = glob.glob('../data/state_county_csvs/counties/inun_frac*')"
   ]
  },
  {
   "cell_type": "code",
   "execution_count": null,
   "metadata": {},
   "outputs": [],
   "source": [
    "rand_csv = np.random.choice(inun_csv_list)\n",
    "train_county_lm(rand_csv, plot_results=False)"
   ]
  },
  {
   "cell_type": "markdown",
   "metadata": {},
   "source": [
    "## Now run for all counties, removing zeros"
   ]
  },
  {
   "cell_type": "code",
   "execution_count": null,
   "metadata": {},
   "outputs": [],
   "source": [
    "county_results = pd.DataFrame()\n",
    "for cur_csv in inun_csv_list:\n",
    "    county_results = county_results.append(train_county_lm(\n",
    "        cur_csv,\n",
    "        pred_cols=['acres', 'precip', 'temp', 'vpd'],\n",
    "        plot_results=False, drop_zeros=True),\n",
    "                                           ignore_index=True)\n",
    "county_results.to_csv('./county_modeling_results_currentvars_nonzeros.csv',index=False)"
   ]
  },
  {
   "cell_type": "code",
   "execution_count": null,
   "metadata": {},
   "outputs": [],
   "source": [
    "county_results.to_csv('./county_modeling_results_currentvars_nonzeros.csv',index=False)"
   ]
  },
  {
   "cell_type": "code",
   "execution_count": null,
   "metadata": {},
   "outputs": [],
   "source": [
    "# Overall accuracy metrics\n",
    "def get_overall_metric(df, metric_col, weighted=True):\n",
    "    # Remove r2 < -1, because something is wrong with that\n",
    "    df = df.loc[df['r2']>-1]\n",
    "    if weighted:\n",
    "        df = df.loc[df['num_playas']>0]\n",
    "        vals = df[metric_col] * df['num_playas']\n",
    "        avg = (vals.sum())/df['num_playas'].sum()\n",
    "    else:\n",
    "        avg = df[metric_col].mean()\n",
    "    \n",
    "    return avg"
   ]
  },
  {
   "cell_type": "code",
   "execution_count": null,
   "metadata": {},
   "outputs": [],
   "source": [
    "# using all variables, including last-month\n",
    "county_results = pd.read_csv('./county_modeling_results_allvars_nonzeros.csv')\n",
    "for metric in ['r2','mse','rmse','mae']:\n",
    "    print(metric,get_overall_metric(county_results, metric, weighted=True))"
   ]
  },
  {
   "cell_type": "code",
   "execution_count": null,
   "metadata": {},
   "outputs": [],
   "source": [
    "# using only current-month weather vars\n",
    "county_results = pd.read_csv('./county_modeling_results_currentvars_nonzeros.csv')\n",
    "for metric in ['r2','mse','rmse','mae']:\n",
    "    print(metric,get_overall_metric(county_results, metric, weighted=True))"
   ]
  },
  {
   "cell_type": "markdown",
   "metadata": {},
   "source": [
    "# Per-playa LM"
   ]
  },
  {
   "cell_type": "code",
   "execution_count": null,
   "metadata": {},
   "outputs": [],
   "source": [
    "def train_playa_lm(\n",
    "    inun_csv,\n",
    "    pred_cols=['acres', 'precip', 'temp', 'vpd', 'last_precip','last_temp','last_vpd'],\n",
    "    drop_zeros=True):\n",
    "    \"\"\"\n",
    "    Fits a basic county multilinear reg model\n",
    "    \n",
    "    Inputs:\n",
    "        inun_csv (str): Path to inundation csv. Weather csv need must be in same dir\n",
    "        pred_cols (list): List of strings with column names to use as prediction.\n",
    "        drop_zeros (bool): True/False drop playas that are all zeros\n",
    "    \n",
    "    Outputs:\n",
    "        output_dict (dict): state and county ids, number of playas, r2, mse, rmse, and mae\n",
    "        Will also print out the validation R^2 and plot val predicted vs true inundation\n",
    "    \"\"\"\n",
    "    \n",
    "    # Set up output\n",
    "    county_id = inun_csv.split('_')[-1][:-4]\n",
    "    state = inun_csv.split('_')[-2]\n",
    "\n",
    "\n",
    "    \n",
    "    # Prep inundation data\n",
    "    inun_df = pd.read_csv(inun_csv)\n",
    "    inun_df.set_index(['id','year','month'], inplace=True)\n",
    "    inun_df = inun_df.loc[~inun_df['inundation'].isna()]\n",
    "    if drop_zeros:\n",
    "        max_inun = inun_df.groupby('id').agg({'inundation':'max'})\n",
    "        zero_ids = max_inun.loc[max_inun['inundation']==0].index\n",
    "        inun_df.drop(zero_ids, inplace=True)\n",
    "        if inun_df.shape[0]==0:\n",
    "            return \n",
    "        \n",
    "    # Prep weather data\n",
    "    weather_csv = inun_csv.replace('inun_frac_','weather_')\n",
    "    weather_df = pd.read_csv(weather_csv)\n",
    "    weather_df.set_index(['id','year','month'], inplace=True)\n",
    "    weather_last = weather_df.groupby('id').shift(1)\n",
    "    weather_df = weather_df.assign(last_temp=weather_last['temp'], last_precip=weather_last['precip'], last_vpd=weather_last['vpd'])\n",
    "    joined_df = weather_df.join(inun_df, how='inner')\n",
    "    joined_df = joined_df.assign(year=joined_df.index.get_level_values(1))\n",
    "    \n",
    "    out_df = pd.DataFrame()\n",
    "    for playa_id in joined_df.index.get_level_values(0).unique():\n",
    "        output_dict = {\n",
    "        'state':state,\n",
    "        'county_fips':county_id,\n",
    "        'playa_id':playa_id,\n",
    "        'max_inun':0,\n",
    "        'r2':0,\n",
    "        'mse':0,\n",
    "        'rmse':0,\n",
    "        'mae':0}\n",
    "        \n",
    "        playa_df = joined_df.loc[joined_df.index.get_level_values(0)==playa_id]\n",
    "        output_dict['max_inun'] = playa_df['inundation'].max()\n",
    "        \n",
    "        train_df, val_df, test_df = split_train_test_val(playa_df)\n",
    "\n",
    "        # Get predictors and target var for train\n",
    "        X = train_df[pred_cols]\n",
    "        y = train_df['inundation']\n",
    "\n",
    "        # For val\n",
    "        X_val = val_df[pred_cols]\n",
    "        y_val = val_df['inundation']\n",
    "\n",
    "        # For test (not using yet)\n",
    "        # X_test = test_df[pred_cols]\n",
    "        # y_test = test_df['inundation']\n",
    "\n",
    "\n",
    "        reg = LinearRegression().fit(X, y)\n",
    "        pred_val = reg.predict(X_val)\n",
    "\n",
    "        output_dict['r2'] = reg.score(X_val, y_val)\n",
    "        output_dict['mse'] = skm.mean_squared_error(pred_val, y_val)\n",
    "        output_dict['rmse'] = np.sqrt(output_dict['mse'])\n",
    "        output_dict['mae'] = skm.mean_absolute_error(pred_val, y_val)\n",
    "        \n",
    "        out_df = out_df.append(output_dict, ignore_index=True)\n",
    "        \n",
    "    return out_df"
   ]
  },
  {
   "cell_type": "code",
   "execution_count": null,
   "metadata": {},
   "outputs": [],
   "source": [
    "inun_csv_list = glob.glob('../data/state_county_csvs/counties/inun_frac*')"
   ]
  },
  {
   "cell_type": "code",
   "execution_count": null,
   "metadata": {},
   "outputs": [],
   "source": [
    "rand_csv = np.random.choice(inun_csv_list)\n",
    "train_playa_lm(rand_csv, plot_results=False)"
   ]
  },
  {
   "cell_type": "code",
   "execution_count": null,
   "metadata": {},
   "outputs": [],
   "source": [
    "playa_results = pd.DataFrame()\n",
    "for cur_csv in inun_csv_list:\n",
    "    playa_results = playa_results.append(train_playa_lm(\n",
    "        cur_csv,\n",
    "#         pred_cols=['acres', 'precip', 'temp', 'vpd'],\n",
    "        drop_zeros=True),\n",
    "                                           ignore_index=True)\n",
    "playa_results.to_csv('./playa_modeling_results_allvars_nonzeros.csv',index=False)"
   ]
  },
  {
   "cell_type": "code",
   "execution_count": null,
   "metadata": {},
   "outputs": [],
   "source": [
    "# using all variables, including last-month\n",
    "playa_results = pd.read_csv('./playa_modeling_results_currentvars_nonzeros.csv')\n",
    "for metric in ['r2','mse','rmse','mae']:\n",
    "    print(metric,get_overall_metric(playa_results, metric, weighted=False))"
   ]
  },
  {
   "cell_type": "code",
   "execution_count": null,
   "metadata": {},
   "outputs": [],
   "source": [
    "# using all variables, including last-month\n",
    "playa_results = pd.read_csv('./playa_modeling_results_allvars_nonzeros.csv')\n",
    "for metric in ['r2','mse','rmse','mae']:\n",
    "    print(metric,get_overall_metric(playa_results, metric, weighted=False))"
   ]
  }
 ],
 "metadata": {
  "kernelspec": {
   "display_name": "playa_venv",
   "language": "python",
   "name": "playa_venv"
  },
  "language_info": {
   "codemirror_mode": {
    "name": "ipython",
    "version": 3
   },
   "file_extension": ".py",
   "mimetype": "text/x-python",
   "name": "python",
   "nbconvert_exporter": "python",
   "pygments_lexer": "ipython3",
   "version": "3.7.3"
  }
 },
 "nbformat": 4,
 "nbformat_minor": 4
}
