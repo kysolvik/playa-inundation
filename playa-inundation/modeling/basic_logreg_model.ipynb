{
 "cells": [
  {
   "cell_type": "markdown",
   "metadata": {},
   "source": [
    "# Testing basic logistic regression model performance, baseline"
   ]
  },
  {
   "cell_type": "code",
   "execution_count": null,
   "metadata": {},
   "outputs": [],
   "source": [
    "import sklearn\n",
    "from sklearn.metrics import precision_score, recall_score, f1_score, accuracy_score, log_loss\n",
    "import pandas as pd\n",
    "import matplotlib.pyplot as plt\n",
    "import numpy as np\n",
    "from sklearn.linear_model import LogisticRegression\n",
    "from sklearn.preprocessing import StandardScaler\n",
    "import json\n",
    "import glob\n",
    "import h5py\n",
    "import time\n",
    "\n",
    "np.random.seed(55)"
   ]
  },
  {
   "cell_type": "markdown",
   "metadata": {},
   "source": [
    "# Set params"
   ]
  },
  {
   "cell_type": "code",
   "execution_count": null,
   "metadata": {},
   "outputs": [],
   "source": [
    "hdf_path = '../data/all_prepped_data.h5'"
   ]
  },
  {
   "cell_type": "code",
   "execution_count": null,
   "metadata": {},
   "outputs": [],
   "source": [
    "all_cols = ['precip', 'temp', 'vpd', 'acres', 'winddevyr', 'meanwetfrq', 'cluster',\n",
    "       'healthy', 'farmed', 'hydromod', 'fttoroad', 'sthick2013', 'mean_inun','lcf13',\n",
    "       'lcf11', 'lcf14', 'lcf15', 'lcf2', 'lcf7', 'lcf6', 'lcf1', 'lcf12',\n",
    "       'lcf9', 'lcf16', 'lcf8', 'lcf10', 'lcf3']"
   ]
  },
  {
   "cell_type": "code",
   "execution_count": null,
   "metadata": {},
   "outputs": [],
   "source": [
    "# Column selection\n",
    "select_cols = ['precip', 'temp', 'vpd', 'acres',\n",
    "                'cluster','healthy', 'farmed', 'hydromod',\n",
    "               'fttoroad',  'sthick2013','mean_inun', # 'winddevyr','meanwetfrq',\n",
    "               'lcf13','lcf11', 'lcf14', 'lcf15', 'lcf2', 'lcf7', 'lcf6', 'lcf1', \n",
    "               'lcf12', 'lcf9', 'lcf16', 'lcf8', 'lcf10', 'lcf3']\n",
    "which_cols_from_hdf = np.isin(all_cols, select_cols)\n"
   ]
  },
  {
   "cell_type": "code",
   "execution_count": null,
   "metadata": {},
   "outputs": [],
   "source": [
    "years = np.repeat(np.arange(-1,1+2/34, 2/34), 12)[2:]\n",
    "months = np.tile(np.arange(-1,1+2/11, 2/11), 35)[2:]"
   ]
  },
  {
   "cell_type": "code",
   "execution_count": null,
   "metadata": {},
   "outputs": [],
   "source": [
    "lstm_input_size = len(select_cols)\n",
    "\n",
    "f = h5py.File(hdf_path, 'r')\n",
    "\n",
    "# Get some params for reshaping\n",
    "n_playas, train_seq_len = f['train_num'].shape[:2]\n",
    "val_seq_len = f['val_num'].shape[1]\n",
    "test_seq_len = f['test_num'].shape[1]\n",
    "\n",
    "# Load data and run scaler simultaneously, requires some reshaping to 2d and back to 3d\n",
    "scaler = StandardScaler()\n",
    "train_val_num = np.concatenate([\n",
    "    scaler.fit_transform(\n",
    "    f['train_num'][()][:,:,which_cols_from_hdf].reshape(\n",
    "        [-1, lstm_input_size])\n",
    "    ).astype(np.float32),\n",
    "    scaler.transform(\n",
    "    f['val_num'][()][:,:,which_cols_from_hdf].reshape(\n",
    "        [-1, lstm_input_size])\n",
    "    ).astype(np.float32)\n",
    "], axis=0)\n",
    "train_val_y = np.concatenate([f['train_y'][()].flatten().astype(np.byte),\n",
    "                             f['val_y'][()].flatten().astype(np.byte)])\n"
   ]
  },
  {
   "cell_type": "code",
   "execution_count": null,
   "metadata": {},
   "outputs": [],
   "source": [
    "train_val_num = np.concatenate([train_val_num,\n",
    "    np.vstack([np.tile(years[:-48], n_playas), np.tile(months[:-48], n_playas)]).T], axis=1).astype(np.float32)\n",
    "        "
   ]
  },
  {
   "cell_type": "code",
   "execution_count": null,
   "metadata": {},
   "outputs": [],
   "source": [
    "reg = LogisticRegression().fit(train_val_num, train_val_y)"
   ]
  },
  {
   "cell_type": "code",
   "execution_count": null,
   "metadata": {},
   "outputs": [],
   "source": [
    "test_num = scaler.transform(\n",
    "    f['test_num'][()][:,:,which_cols_from_hdf].reshape(\n",
    "        [-1, lstm_input_size])\n",
    "    ).astype(np.float32)\n",
    "test_num = np.concatenate([test_num,\n",
    "                           np.vstack([np.tile(years[-48:], n_playas), np.tile(months[-48:], n_playas)]).T]\n",
    "                          ,axis=1).astype(np.float32)\n",
    "test_y = f['test_y'][()].flatten().astype(np.byte)\n",
    "pred_test = reg.predict_proba(test_num)[:,1]\n"
   ]
  },
  {
   "cell_type": "code",
   "execution_count": null,
   "metadata": {},
   "outputs": [],
   "source": [
    "binary_cutoff=0.1\n",
    "print('Accuracy:', accuracy_score(test_y, pred_test>binary_cutoff))\n",
    "print('Precision:', precision_score(test_y, pred_test>binary_cutoff))\n",
    "print('Recall:', recall_score(test_y, pred_test>binary_cutoff))\n",
    "print('F1:',f1_score(test_y, pred_test>binary_cutoff))\n",
    "print('Loss:', log_loss(test_y, pred_test))"
   ]
  },
  {
   "cell_type": "code",
   "execution_count": null,
   "metadata": {},
   "outputs": [],
   "source": [
    "##### fpr, tpr, thresholds = sklearn.metrics.roc_curve(test_y, pred_test, pos_label=1)\n",
    "\n",
    "print('AUC: ', sklearn.metrics.auc(fpr, tpr))\n",
    "plt.plot(fpr, tpr)\n",
    "plt.xlabel('False Pos Rate')\n",
    "plt.ylabel('True Pos Rate')\n",
    "plt.show()"
   ]
  },
  {
   "cell_type": "code",
   "execution_count": null,
   "metadata": {},
   "outputs": [],
   "source": [
    "window = [467200, 467300]\n",
    "pd.DataFrame({'Pred':pred_test[window[0]:window[1]], 'True':test_y[window[0]:window[1]]}).plot()"
   ]
  }
 ],
 "metadata": {
  "kernelspec": {
   "display_name": "Environment (conda_pytorch_latest_p36_playa)",
   "language": "python",
   "name": "conda_pytorch_latest_p36_playa"
  },
  "language_info": {
   "codemirror_mode": {
    "name": "ipython",
    "version": 3
   },
   "file_extension": ".py",
   "mimetype": "text/x-python",
   "name": "python",
   "nbconvert_exporter": "python",
   "pygments_lexer": "ipython3",
   "version": "3.6.10"
  }
 },
 "nbformat": 4,
 "nbformat_minor": 4
}
