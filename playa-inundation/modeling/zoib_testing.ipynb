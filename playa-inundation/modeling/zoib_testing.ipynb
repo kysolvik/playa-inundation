{
 "cells": [
  {
   "cell_type": "code",
   "execution_count": null,
   "metadata": {},
   "outputs": [],
   "source": [
    "import torch\n",
    "import zoib\n",
    "import numpy as np"
   ]
  },
  {
   "cell_type": "code",
   "execution_count": null,
   "metadata": {},
   "outputs": [],
   "source": [
    "zoib_fit = zoib.ZOIBeta(p=torch.tensor([.5]), \n",
    "               q=torch.tensor([.3]), \n",
    "               concentration1=torch.tensor([1.]), \n",
    "               concentration0=torch.tensor([1.]))"
   ]
  },
  {
   "cell_type": "code",
   "execution_count": null,
   "metadata": {},
   "outputs": [],
   "source": [
    "assert zoib_fit.log_prob(torch.tensor([0.])).item() == -0.6931471824645996"
   ]
  },
  {
   "cell_type": "code",
   "execution_count": null,
   "metadata": {},
   "outputs": [],
   "source": [
    "assert zoib_fit.log_prob(torch.tensor([1.])).item() == -1.8971199989318848"
   ]
  },
  {
   "cell_type": "code",
   "execution_count": null,
   "metadata": {},
   "outputs": [],
   "source": [
    "assert zoib_fit.log_prob(torch.tensor([0.4])).item() == -1.0498220920562744"
   ]
  },
  {
   "cell_type": "code",
   "execution_count": null,
   "metadata": {},
   "outputs": [],
   "source": [
    "assert zoib_fit.log_prob(torch.tensor([.9])).item() == -1.0498220920562744"
   ]
  },
  {
   "cell_type": "code",
   "execution_count": null,
   "metadata": {},
   "outputs": [],
   "source": [
    "assert zoib_fit.log_prob(torch.tensor([.2])).item() == -1.0498220920562744"
   ]
  },
  {
   "cell_type": "code",
   "execution_count": null,
   "metadata": {},
   "outputs": [],
   "source": [
    "# Test full loss\n",
    "pred = torch.tensor([[[0.5, 0.3, 1., 1.],[0.5, 0.3, 1., 1.], [0.5, 0.3, 1., 1.], [0.5, 0.3, 1., 1.], [0.5, 0.3, 1., 1.]]])\n",
    "true_y = torch.tensor([[0., 1., 0.4, 0.9, 0.2]])\n",
    "log_probs = zoib.zoib_loss(\n",
    "    pred,\n",
    "    true_y,# Flatten to (batch_size*timesteps) X 1\n",
    "    return_mean=False) \n",
    "assert log_probs.detach().numpy().all() == np.array([0.6931472, 1.89712  , 1.0497648, 1.0498629, 1.0498054]).all()\n",
    "\n",
    "\n",
    "mean_loss = zoib.zoib_loss(\n",
    "    pred,\n",
    "    true_y,# Flatten to (batch_size*timesteps) X 1\n",
    "    return_mean=True)\n",
    "assert mean_loss.item() == 1.1479400396347046"
   ]
  },
  {
   "cell_type": "markdown",
   "metadata": {},
   "source": [
    "# Real example from training: log_prob ONLY cars about p, but expected val cares about everything"
   ]
  },
  {
   "cell_type": "code",
   "execution_count": null,
   "metadata": {},
   "outputs": [],
   "source": [
    "t = [4.8095e-01, 2.3518e-05, 5.6511e+02, 8.6665e+02]"
   ]
  },
  {
   "cell_type": "code",
   "execution_count": null,
   "metadata": {},
   "outputs": [],
   "source": [
    "zoib_fit_other = zoib.ZOIBeta(p=torch.tensor([t[0]]), \n",
    "               q=torch.tensor([t[1]]), \n",
    "               concentration1=torch.tensor([t[2]]), \n",
    "               concentration0=torch.tensor([t[3]]))"
   ]
  },
  {
   "cell_type": "code",
   "execution_count": null,
   "metadata": {},
   "outputs": [],
   "source": [
    "zoib_fit_other.log_prob(torch.tensor([0]))"
   ]
  },
  {
   "cell_type": "code",
   "execution_count": null,
   "metadata": {},
   "outputs": [],
   "source": [
    "def zoib_expected(t):\n",
    "    # E = q*(1-p) + (1-p-q)*(conc1/(conc1+conc0))\n",
    "    # Or # = prob_1_given_not0*(1-prob_0) + (1 - prob_bernoulli)*(expect_val_beta)\n",
    "    t = t.detach().numpy()\n",
    "    prob_1 = t[:,1]*(1-t[:,0])\n",
    "    prob_beta = (1 - t[:,0])*(1 - t[:,1])\n",
    "    beta_expected = t[:,2]/(t[:,3]+t[:,2])\n",
    "    return prob_1 + prob_beta*beta_expected"
   ]
  },
  {
   "cell_type": "code",
   "execution_count": null,
   "metadata": {},
   "outputs": [],
   "source": [
    "zoib_expected(torch.tensor([t]))"
   ]
  },
  {
   "cell_type": "code",
   "execution_count": null,
   "metadata": {},
   "outputs": [],
   "source": []
  }
 ],
 "metadata": {
  "kernelspec": {
   "display_name": "playa_venv",
   "language": "python",
   "name": "playa_venv"
  },
  "language_info": {
   "codemirror_mode": {
    "name": "ipython",
    "version": 3
   },
   "file_extension": ".py",
   "mimetype": "text/x-python",
   "name": "python",
   "nbconvert_exporter": "python",
   "pygments_lexer": "ipython3",
   "version": "3.7.3"
  }
 },
 "nbformat": 4,
 "nbformat_minor": 4
}
