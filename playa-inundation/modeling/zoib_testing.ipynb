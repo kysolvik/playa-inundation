{
 "cells": [
  {
   "cell_type": "code",
   "execution_count": null,
   "metadata": {},
   "outputs": [],
   "source": [
    "import torch\n",
    "import zoib"
   ]
  },
  {
   "cell_type": "code",
   "execution_count": null,
   "metadata": {},
   "outputs": [],
   "source": [
    "zoib_fit = zoib.ZOIBeta(p=torch.tensor([.5]), \n",
    "               q=torch.tensor([.3]), \n",
    "               concentration1=torch.tensor([1.]), \n",
    "               concentration0=torch.tensor([1.]))"
   ]
  },
  {
   "cell_type": "code",
   "execution_count": null,
   "metadata": {},
   "outputs": [],
   "source": [
    "zoib_fit.log_prob(torch.tensor([0.])) "
   ]
  },
  {
   "cell_type": "code",
   "execution_count": null,
   "metadata": {},
   "outputs": [],
   "source": [
    "zoib_fit.log_prob(torch.tensor([1.]))"
   ]
  },
  {
   "cell_type": "code",
   "execution_count": null,
   "metadata": {},
   "outputs": [],
   "source": [
    "zoib_fit.log_prob(torch.tensor([0.4]))"
   ]
  },
  {
   "cell_type": "code",
   "execution_count": null,
   "metadata": {},
   "outputs": [],
   "source": [
    "zoib_fit.log_prob(torch.tensor([.9]))"
   ]
  },
  {
   "cell_type": "code",
   "execution_count": null,
   "metadata": {},
   "outputs": [],
   "source": [
    "zoib_fit.log_prob(torch.tensor([.2]))"
   ]
  },
  {
   "cell_type": "code",
   "execution_count": null,
   "metadata": {},
   "outputs": [],
   "source": [
    "# Test full loss\n",
    "pred = torch.tensor([[0.5, 0.3, 1., 1.],[0.5, 0.3, 1., 1.], [0.5, 0.3, 1., 1.], [0.5, 0.3, 1., 1.], [0.5, 0.3, 1., 1.]])\n",
    "true_y = torch.tensor([0., 1., 0.4, 0.9, 0.2])\n",
    "log_probs = zoib.zoib_loss(\n",
    "    pred,\n",
    "    true_y,# Flatten to (batch_size*timesteps) X 1\n",
    "    return_mean=False) \n",
    "print(log_probs)# [0.6931, 1.8971, 1.0498, 1.0499, 1.0498]\n",
    "\n",
    "mean_loss = zoib.zoib_loss(\n",
    "    pred,\n",
    "    true_y,# Flatten to (batch_size*timesteps) X 1\n",
    "    return_mean=True)\n",
    "print(mean_loss) # 1.1479\n"
   ]
  }
 ],
 "metadata": {
  "kernelspec": {
   "display_name": "playa_venv",
   "language": "python",
   "name": "playa_venv"
  },
  "language_info": {
   "codemirror_mode": {
    "name": "ipython",
    "version": 3
   },
   "file_extension": ".py",
   "mimetype": "text/x-python",
   "name": "python",
   "nbconvert_exporter": "python",
   "pygments_lexer": "ipython3",
   "version": "3.7.3"
  }
 },
 "nbformat": 4,
 "nbformat_minor": 4
}
