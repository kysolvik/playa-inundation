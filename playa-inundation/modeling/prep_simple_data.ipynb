{
 "cells": [
  {
   "cell_type": "markdown",
   "metadata": {},
   "source": [
    "# Create a CSV with 8 Playas"
   ]
  },
  {
   "cell_type": "code",
   "execution_count": null,
   "metadata": {},
   "outputs": [],
   "source": [
    "import pandas as pd\n",
    "import matplotlib.pyplot as plt\n",
    "import numpy as np\n",
    "import glob\n",
    "np.random.seed(62)"
   ]
  },
  {
   "cell_type": "code",
   "execution_count": null,
   "metadata": {},
   "outputs": [],
   "source": [
    "def prep_lc_frac_df(ids=[]):\n",
    "    \"\"\"LC Frac csv is hardcoded! Change if you need it\"\"\"\n",
    "    lc_df = pd.read_csv('../data/fraster_landcover_allyears_bigger.csv').set_index('id')\n",
    "    if len(ids)>0:\n",
    "        lc_df = lc_df.loc[ids]\n",
    "    lc_frac = pd.DataFrame()\n",
    "    for col in lc_df.columns:\n",
    "        year = int(col[0:4])\n",
    "        jsond = lc_df[col].str.replace(r'([0-9]+)(:)', r'\"\\1\"\\2', regex=True).apply(json.loads)\n",
    "        temp_frac_df = (pd.json_normalize(jsond)/5000)\n",
    "        temp_frac_df.columns = ['lcf{}'.format(lc) for lc in temp_frac_df.columns]\n",
    "        temp_frac_df = temp_frac_df.assign(id=lc_df.index, year=year)\n",
    "        lc_frac = lc_frac.append(temp_frac_df)\n",
    "    lc_frac.fillna(0,inplace=True)\n",
    "    \n",
    "    return lc_frac.set_index(['id','year'])\n",
    "\n",
    "\n",
    "def read_join_csv(inun_csv, drop_zeros=True):\n",
    "    # Prep inundation data\n",
    "    inun_df = pd.read_csv(inun_csv)\n",
    "    inun_df.set_index(['id','year','month'], inplace=True)\n",
    "    inun_df = inun_df.loc[~inun_df['inundation'].isna()]\n",
    "    if drop_zeros:\n",
    "        max_inun = inun_df.groupby('id').agg({'inundation':'max'})\n",
    "        zero_ids = max_inun.loc[max_inun['inundation']==0].index\n",
    "        inun_df.drop(zero_ids, inplace=True)\n",
    "        if inun_df.shape[0]==0:\n",
    "            return \n",
    "        \n",
    "    # Prep weather data\n",
    "    weather_csv = inun_csv.replace('inun_frac_','weather_')\n",
    "    weather_df = pd.read_csv(weather_csv)\n",
    "    weather_df.set_index(['id','year','month'], inplace=True)\n",
    "    joined_df = weather_df.join(inun_df, how='inner')\n",
    "    \n",
    "    # Finally, prep landcover fraction dataframe\n",
    "    # Both prep and join are a bit slow\n",
    "    # Could prep into fractions ahead of time\n",
    "    # And also split up lc df by county\n",
    "    lc_frac_df = prep_lc_frac_df(ids=joined_df.index.get_level_values(0).unique())\n",
    "    joined_df = joined_df.join(lc_frac_df, how='inner')\n",
    "    \n",
    "    return joined_df"
   ]
  },
  {
   "cell_type": "code",
   "execution_count": null,
   "metadata": {},
   "outputs": [],
   "source": [
    "inun_csv_list = glob.glob('../data/state_county_csvs/counties/inun_frac*')"
   ]
  },
  {
   "cell_type": "code",
   "execution_count": null,
   "metadata": {},
   "outputs": [],
   "source": [
    "target_num_playas = 8"
   ]
  },
  {
   "cell_type": "code",
   "execution_count": null,
   "metadata": {},
   "outputs": [],
   "source": [
    "joined_df = pd.DataFrame()\n",
    "while joined_df.index.get_level_values(0).unique().shape[0] <= target_num_playas:\n",
    "    rand_csv = np.random.choice(inun_csv_list)\n",
    "    joined_df = pd.concat([joined_df, read_join_csv(rand_csv, drop_zeros=True)])\n",
    "    \n",
    "joined_df.fillna(0, inplace=True)\n",
    "\n",
    "joined_df = joined_df.loc[joined_df.index.get_level_values(0).unique()[:target_num_playas]]"
   ]
  },
  {
   "cell_type": "code",
   "execution_count": null,
   "metadata": {},
   "outputs": [],
   "source": [
    "for i in joined_df.index.get_level_values(0).unique():\n",
    "    joined_df.loc[i,'inundation'].plot()"
   ]
  },
  {
   "cell_type": "code",
   "execution_count": null,
   "metadata": {},
   "outputs": [],
   "source": [
    "joined_df = joined_df.drop(columns=['area'])#[['inundation', 'acres', 'vpd', 'temp','precip']]"
   ]
  },
  {
   "cell_type": "code",
   "execution_count": null,
   "metadata": {},
   "outputs": [],
   "source": [
    "len_of_timeseries = 418\n",
    "new_ids = np.array([\n",
    "    np.repeat(i, len_of_timeseries) for i in range(int(joined_df.shape[0]/len_of_timeseries))]\n",
    ").flatten()\n",
    "joined_df = joined_df.assign(id=new_ids) # Put id at end for embedding\n",
    "\n",
    "# Pop inundation to end\n",
    "inun = joined_df.pop('inundation')\n",
    "joined_df['inundation'] = inun\n"
   ]
  },
  {
   "cell_type": "code",
   "execution_count": null,
   "metadata": {},
   "outputs": [],
   "source": [
    "joined_df.to_csv('./prepped_8.csv')"
   ]
  }
 ],
 "metadata": {
  "kernelspec": {
   "display_name": "playa_venv",
   "language": "python",
   "name": "playa_venv"
  },
  "language_info": {
   "codemirror_mode": {
    "name": "ipython",
    "version": 3
   },
   "file_extension": ".py",
   "mimetype": "text/x-python",
   "name": "python",
   "nbconvert_exporter": "python",
   "pygments_lexer": "ipython3",
   "version": "3.7.3"
  }
 },
 "nbformat": 4,
 "nbformat_minor": 4
}
