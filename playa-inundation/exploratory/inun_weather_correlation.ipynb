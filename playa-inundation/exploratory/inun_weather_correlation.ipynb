{
 "cells": [
  {
   "cell_type": "markdown",
   "metadata": {},
   "source": [
    "# Explore correlations between temp, precip, acres, and inundation\n",
    "## Including basic modeling"
   ]
  },
  {
   "cell_type": "code",
   "execution_count": null,
   "metadata": {},
   "outputs": [],
   "source": [
    "import pandas as pd\n",
    "import matplotlib.pyplot as plt\n",
    "from sklearn.linear_model import LinearRegression\n",
    "import statsmodels.api as sm\n",
    "from scipy.stats import spearmanr"
   ]
  },
  {
   "cell_type": "code",
   "execution_count": null,
   "metadata": {},
   "outputs": [],
   "source": [
    "weather_csv_basename = '../data/state_county_csvs/weather_'\n",
    "inun_csv_basename = '../data/state_county_csvs/inun_frac_'\n",
    "state_list = ['CO', 'KS', 'NE', 'NM', 'OK','TX']"
   ]
  },
  {
   "cell_type": "code",
   "execution_count": null,
   "metadata": {},
   "outputs": [],
   "source": [
    "def read_state_csvs(state):\n",
    "    \"\"\"Read and also rename columns to be a bit easier\"\"\"\n",
    "    \n",
    "    # Weather\n",
    "    weather_csv_path = weather_csv_basename + state + '.csv'\n",
    "    weather_df = pd.read_csv(weather_csv_path)\n",
    "    \n",
    "    # Inundation\n",
    "    inun_csv_path = inun_csv_basename + state + '.csv'\n",
    "    inun_df = pd.read_csv(inun_csv_path)\n",
    "    \n",
    "    return inun_df, weather_df\n",
    "\n",
    "\n",
    "def read_join_state(state, drop_zeros=False):\n",
    "    \"\"\"Read state weather and inundation csv, then join\"\"\"\n",
    "    \n",
    "    inun_df, weather_df = read_state_csvs(state)\n",
    "    \n",
    "    inun_df.set_index(['id','year','month'], inplace=True)\n",
    "    weather_df.set_index(['id','year','month'], inplace=True)\n",
    "    \n",
    "    # Set NANs to 0\n",
    "    inun_df.loc[pd.isna(inun_df['inundation']),'inundation'] = 0\n",
    "    \n",
    "    if drop_zeros:\n",
    "        max_inun = inun_df.groupby('id').agg({'inundation':'max'})\n",
    "        zero_ids = max_inun.loc[max_inun['inundation']==0].index\n",
    "        inun_df.drop(zero_ids, inplace=True)\n",
    "        \n",
    "    \n",
    "    return inun_df.join(weather_df)"
   ]
  },
  {
   "cell_type": "markdown",
   "metadata": {},
   "source": [
    "# Read in dfs"
   ]
  },
  {
   "cell_type": "code",
   "execution_count": null,
   "metadata": {},
   "outputs": [],
   "source": [
    "state = 'NM'\n",
    "joined_df = read_join_state(state)\n",
    "joined_nonzero = read_join_state(state, drop_zeros=True)"
   ]
  },
  {
   "cell_type": "markdown",
   "metadata": {},
   "source": [
    "## Univariate autocorrelations"
   ]
  },
  {
   "cell_type": "code",
   "execution_count": null,
   "metadata": {},
   "outputs": [],
   "source": [
    "plt.acorr(joined_nonzero.iloc[0:50000]['inundation'], usevlines=True, normed=True, maxlags=50, lw=2)"
   ]
  },
  {
   "cell_type": "markdown",
   "metadata": {},
   "source": [
    "## Bivariate correlations: basic stats and plots"
   ]
  },
  {
   "cell_type": "code",
   "execution_count": null,
   "metadata": {},
   "outputs": [],
   "source": [
    "def spearmanr_pval(x,y):\n",
    "    return spearmanr(x,y)[1]"
   ]
  },
  {
   "cell_type": "code",
   "execution_count": null,
   "metadata": {},
   "outputs": [],
   "source": [
    "cor = joined_nonzero[['inundation','precip','temp', 'acres']].corr(method='spearman')\n",
    "cor_pvals = joined_nonzero[['inundation','precip','temp', 'acres']].corr(method=spearmanr_pval)\n",
    "print('Coefs\\n',cor, '\\n\\n')\n",
    "print('Pvals\\n',cor_pvals)\n",
    "plt.matshow(cor)\n",
    "plt.colorbar()\n",
    "plt.show()"
   ]
  },
  {
   "cell_type": "code",
   "execution_count": null,
   "metadata": {},
   "outputs": [],
   "source": [
    "pd.plotting.scatter_matrix(joined_nonzero[['inundation','precip','temp', 'acres']], figsize=(12, 12))\n",
    "plt.show()"
   ]
  },
  {
   "cell_type": "markdown",
   "metadata": {},
   "source": [
    "# Plot inundation trajectories"
   ]
  },
  {
   "cell_type": "code",
   "execution_count": null,
   "metadata": {},
   "outputs": [],
   "source": [
    "def normalize_var(x):\n",
    "    x = (x-min(x))/(max(x)-min(x))\n",
    "    return x"
   ]
  },
  {
   "cell_type": "code",
   "execution_count": null,
   "metadata": {},
   "outputs": [],
   "source": [
    "params = {'legend.fontsize': 14,\n",
    "          'legend.handlelength': 2}\n",
    "plt.rcParams.update(params)\n",
    "rand_index = joined_nonzero.sample(1).index.get_level_values(0)[0]\n",
    "traj = joined_nonzero.loc[rand_index, ['precip','inundation','temp']]\n",
    "traj['precip'] = normalize_var(traj['precip'])\n",
    "ax = traj[['precip','inundation']].plot(\n",
    "    figsize=(12,3),xlim=[200,418],ylim=[0,1], lw=2)\n",
    "ax.set_xlabel('Year, Month',size=15)\n",
    "ax.set_ylabel('Inundation Frac/\\nRelative Precip Magnitude',size=15)\n",
    "ax.tick_params(axis=\"x\", labelsize=12)\n",
    "ax.tick_params(axis=\"y\", labelsize=12)\n",
    "ax.set_title('Playa: {}'.format(rand_index),loc='left', size=16)\n",
    "plt.show()"
   ]
  },
  {
   "cell_type": "code",
   "execution_count": null,
   "metadata": {},
   "outputs": [],
   "source": [
    "# Max precip vs frac of months filled per year\n",
    "rand_index = joined_nonzero.sample(1).index.get_level_values(0)[0]\n",
    "traj = joined_nonzero.loc[rand_index, ['precip','inundation','temp']]\n",
    "traj['temp'] = normalize_var(traj['temp'])\n",
    "traj['precip'] = normalize_var(traj['precip'])\n",
    "traj.assign(nonzero_inun=traj['inundation']>0).groupby('year').agg(\n",
    "    {'precip':'max','temp':'mean', 'nonzero_inun':'mean'}).plot()"
   ]
  },
  {
   "cell_type": "markdown",
   "metadata": {},
   "source": [
    "# Basic linear modeling and log reg"
   ]
  },
  {
   "cell_type": "code",
   "execution_count": null,
   "metadata": {},
   "outputs": [],
   "source": [
    "def basic_lm(joined_nonzero, random_traj=True,model_type='linear'):\n",
    "    # Can be linear or 'log' for logistic regression\n",
    "    if random_traj:\n",
    "        rand_index = joined_nonzero.sample(1).index.get_level_values(0)[0]\n",
    "        traj = joined_nonzero.loc[rand_index, ['precip','inundation','temp']]\n",
    "        X = traj[['precip','temp']]\n",
    "        y = traj['inundation']\n",
    "    else:\n",
    "        traj = joined_nonzero\n",
    "        X = traj[['precip','temp','acres']]\n",
    "        y = traj['inundation']\n",
    "    \n",
    "    if model_type=='linear':\n",
    "        est = sm.OLS(y, X)\n",
    "    elif model_type=='log':\n",
    "        y = y>0\n",
    "        est = sm.Logit(y, X)\n",
    "    else:\n",
    "        print(\"model_type not 'linear' or 'log'\")\n",
    "\n",
    "        \n",
    "    est2 = est.fit()\n",
    "    print(est2.summary())\n",
    "    \n",
    "    plt.scatter(traj['temp'], traj['inundation'])\n",
    "    plt.title('Temp vs Inundation')\n",
    "    plt.show()\n",
    "\n",
    "    \n",
    "    plt.scatter(traj['precip'], traj['inundation'])\n",
    "    plt.title('Precip vs Inundation')\n",
    "\n",
    "    plt.show()\n",
    "    \n",
    "    if not random_traj:\n",
    "        plt.scatter(traj['acres'], traj['inundation'])\n",
    "        plt.title('Playa Area vs Inundation')\n",
    "        plt.show()\n",
    "    \n",
    "    plt.scatter(y, est2.predict(X))\n",
    "    plt.xlabel('True')\n",
    "    plt.ylabel('Predicted')\n",
    "    plt.show()\n",
    "    \n",
    "    fig = plt.figure(figsize=(12,5))\n",
    "    fig = sm.graphics.plot_partregress_grid(est2, fig=fig)\n",
    "    plt.show()\n",
    "    \n",
    "    if model_type == 'linear':\n",
    "        plt.scatter(est2.predict(X), est2.resid)\n",
    "        plt.xlabel('Fitted')\n",
    "        plt.ylabel('Resid')\n",
    "        plt.show()\n"
   ]
  },
  {
   "cell_type": "markdown",
   "metadata": {},
   "source": [
    "### Modeling a single random trajectory"
   ]
  },
  {
   "cell_type": "code",
   "execution_count": null,
   "metadata": {},
   "outputs": [],
   "source": [
    "basic_lm(joined_nonzero, random_traj=True, model_type='linear')"
   ]
  },
  {
   "cell_type": "code",
   "execution_count": null,
   "metadata": {},
   "outputs": [],
   "source": [
    "basic_lm(joined_nonzero, random_traj=True, model_type='log')"
   ]
  },
  {
   "cell_type": "markdown",
   "metadata": {},
   "source": [
    "### Modeling all playas together"
   ]
  },
  {
   "cell_type": "code",
   "execution_count": null,
   "metadata": {},
   "outputs": [],
   "source": [
    "basic_lm(joined_nonzero, random_traj=False, model_type='linear')"
   ]
  },
  {
   "cell_type": "code",
   "execution_count": null,
   "metadata": {},
   "outputs": [],
   "source": [
    "basic_lm(joined_nonzero, random_traj=False, model_type='log')"
   ]
  }
 ],
 "metadata": {
  "kernelspec": {
   "display_name": "playa_venv",
   "language": "python",
   "name": "playa_venv"
  },
  "language_info": {
   "codemirror_mode": {
    "name": "ipython",
    "version": 3
   },
   "file_extension": ".py",
   "mimetype": "text/x-python",
   "name": "python",
   "nbconvert_exporter": "python",
   "pygments_lexer": "ipython3",
   "version": "3.7.3"
  }
 },
 "nbformat": 4,
 "nbformat_minor": 4
}
