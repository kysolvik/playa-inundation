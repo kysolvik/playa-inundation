{
 "cells": [
  {
   "cell_type": "markdown",
   "metadata": {},
   "source": [
    "# Explore correlations between temp, precip, inundation"
   ]
  },
  {
   "cell_type": "code",
   "execution_count": null,
   "metadata": {},
   "outputs": [],
   "source": [
    "import pandas as pd\n",
    "import matplotlib.pyplot as plt"
   ]
  },
  {
   "cell_type": "code",
   "execution_count": null,
   "metadata": {},
   "outputs": [],
   "source": [
    "weather_csv_basename = '../data/state_county_csvs/weather_'\n",
    "inun_csv_basename = '../data/state_county_csvs/inun_frac_'\n",
    "state_list = ['CO', 'KS', 'NE', 'NM', 'OK','TX']"
   ]
  },
  {
   "cell_type": "code",
   "execution_count": null,
   "metadata": {},
   "outputs": [],
   "source": [
    "def read_state_csvs(state):\n",
    "    \"\"\"Read and also rename columns to be a bit easier\"\"\"\n",
    "    \n",
    "    # Weather\n",
    "    weather_csv_path = weather_csv_basename + state + '.csv'\n",
    "    weather_df = pd.read_csv(weather_csv_path)\n",
    "    weather_df = weather_df.rename(columns={'mean_2m_air_temperature':'temp', 'total_precipitation':'precip'})\n",
    "    weather_df = weather_df.drop('acres', axis=1)\n",
    "\n",
    "    \n",
    "    # Inundation\n",
    "    inun_csv_path = inun_csv_basename + state + '.csv'\n",
    "    inun_df = pd.read_csv(inun_csv_path)\n",
    "    \n",
    "    return inun_df, weather_df\n",
    "\n",
    "\n",
    "def read_join_state(state, drop_zeros=False):\n",
    "    \"\"\"Read state weather and inundation csv, then join\"\"\"\n",
    "    \n",
    "    inun_df, weather_df = read_state_csvs(state)\n",
    "    \n",
    "    inun_df.set_index(['id','year','month'], inplace=True)\n",
    "    weather_df.set_index(['id','year','month'], inplace=True)\n",
    "    \n",
    "    if drop_zeros:\n",
    "        max_inun = inun_df.groupby('id').agg({'inundation':'max'})\n",
    "        zero_ids = max_inun.loc[max_inun['inundation']==0].index\n",
    "        inun_df.drop(zero_ids, inplace=True)\n",
    "        \n",
    "    \n",
    "    return inun_df.join(weather_df)"
   ]
  },
  {
   "cell_type": "markdown",
   "metadata": {},
   "source": [
    "# Read in dfs"
   ]
  },
  {
   "cell_type": "code",
   "execution_count": null,
   "metadata": {},
   "outputs": [],
   "source": [
    "state = 'NM'\n",
    "joined_df = read_join_state(state)\n",
    "joined_nonzero = read_join_state(state, drop_zeros=True)"
   ]
  },
  {
   "cell_type": "markdown",
   "metadata": {},
   "source": [
    "## Univariate autocorrelations"
   ]
  },
  {
   "cell_type": "code",
   "execution_count": null,
   "metadata": {},
   "outputs": [],
   "source": [
    "plt.acorr(joined_nonzero.iloc[0:50000]['inundation'], usevlines=True, normed=True, maxlags=50, lw=2)"
   ]
  },
  {
   "cell_type": "markdown",
   "metadata": {},
   "source": [
    "## Bivariate correlations: basic stats and plots"
   ]
  },
  {
   "cell_type": "code",
   "execution_count": null,
   "metadata": {},
   "outputs": [],
   "source": [
    "print(joined_df[['inundation','precip','temp', 'acres']].corr())\n",
    "plt.matshow(joined_df[['inundation','precip','temp', 'acres']].corr())\n",
    "plt.colorbar()\n",
    "plt.show()"
   ]
  },
  {
   "cell_type": "code",
   "execution_count": null,
   "metadata": {},
   "outputs": [],
   "source": [
    "print(joined_nonzero[['inundation','precip','temp', 'acres']].corr())\n",
    "plt.matshow(joined_nonzero[['inundation','precip','temp', 'acres']].corr())\n",
    "plt.colorbar()\n",
    "plt.show()"
   ]
  },
  {
   "cell_type": "code",
   "execution_count": null,
   "metadata": {},
   "outputs": [],
   "source": [
    "pd.plotting.scatter_matrix(joined_nonzero[['inundation','precip','temp', 'acres']], figsize=(12, 12))\n",
    "plt.show()"
   ]
  }
 ],
 "metadata": {
  "kernelspec": {
   "display_name": "playa_venv",
   "language": "python",
   "name": "playa_venv"
  },
  "language_info": {
   "codemirror_mode": {
    "name": "ipython",
    "version": 3
   },
   "file_extension": ".py",
   "mimetype": "text/x-python",
   "name": "python",
   "nbconvert_exporter": "python",
   "pygments_lexer": "ipython3",
   "version": "3.7.3"
  }
 },
 "nbformat": 4,
 "nbformat_minor": 4
}
