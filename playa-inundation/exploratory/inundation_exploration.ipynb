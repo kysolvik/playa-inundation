{
 "cells": [
  {
   "cell_type": "markdown",
   "metadata": {},
   "source": [
    "# Exploring Playa Inundation & Area Over Time"
   ]
  },
  {
   "cell_type": "code",
   "execution_count": null,
   "metadata": {},
   "outputs": [],
   "source": [
    "import pandas as pd\n",
    "import matplotlib.pyplot as plt"
   ]
  },
  {
   "cell_type": "markdown",
   "metadata": {},
   "source": [
    "## Counting number of 0s per state, and saving csvs"
   ]
  },
  {
   "cell_type": "code",
   "execution_count": null,
   "metadata": {},
   "outputs": [],
   "source": [
    "state_zeros_df = pd.DataFrame()\n",
    "for state in state_list:\n",
    "    state_csv_path = inun_csv_basename + state + '.csv'\n",
    "    state_df = pd.read_csv(state_csv_path)\n",
    "    zeros = (state_df[['id','inundation']].groupby('id').max()==0).sum()\n",
    "    nonzeros = state_df['id'].unique().shape[0] - zeros\n",
    "    state_zeros_df = state_zeros_df.append(pd.DataFrame(\n",
    "        {'state':state,'zeros':zeros, 'nonzeros':nonzeros}))\n",
    "    \n",
    "state_zeros_df = state_zeros_df.set_index('state')\n",
    "state_zeros_df = state_zeros_df.assign(\n",
    "    total=state_zeros_df['zeros'] + state_zeros_df['nonzeros'])\n",
    "state_zeros_df = state_zeros_df.assign(\n",
    "    frac_zeros=state_zeros_df['zeros']/state_zeros_df['total'])"
   ]
  },
  {
   "cell_type": "markdown",
   "metadata": {},
   "source": [
    "## Get basic per-lake stats"
   ]
  },
  {
   "cell_type": "code",
   "execution_count": null,
   "metadata": {},
   "outputs": [],
   "source": [
    "inun_csv_basename = '../data/state_county_csvs/inun_frac_'\n",
    "state_list = ['CO', 'KS', 'NE', 'NM', 'OK','TX']"
   ]
  },
  {
   "cell_type": "code",
   "execution_count": null,
   "metadata": {},
   "outputs": [],
   "source": [
    "# Hardcoded number of months and years in dataset\n",
    "num_months = 418\n",
    "num_years = 35"
   ]
  },
  {
   "cell_type": "code",
   "execution_count": null,
   "metadata": {},
   "outputs": [],
   "source": [
    "def months_nonzero(x):\n",
    "    return (x>0).sum()\n",
    "\n",
    "def years_nonzero(x):\n",
    "    return max(x)>0"
   ]
  },
  {
   "cell_type": "code",
   "execution_count": null,
   "metadata": {},
   "outputs": [],
   "source": [
    "def calc_per_playa_stats(state_df):\n",
    "\n",
    "    # Might be way to combine into one groupby, but this works pretty fast\n",
    "    per_playa = state_df[['id','inundation', 'area']].groupby('id').agg(['max','min','sum','mean','median',months_nonzero])\n",
    "    years_nonzero_df = state_df[['id','inundation', 'year']].groupby(['id', 'year']).agg({'inundation':years_nonzero}).groupby('id').sum()\n",
    "    per_playa = per_playa.assign(years_nonzero=years_nonzero_df['inundation'])\n",
    "    \n",
    "    return per_playa"
   ]
  },
  {
   "cell_type": "code",
   "execution_count": null,
   "metadata": {},
   "outputs": [],
   "source": [
    "per_playa_df = pd.DataFrame()\n",
    "for state in state_list:\n",
    "    state_csv_path = inun_csv_basename + state + '.csv'\n",
    "    state_df = pd.read_csv(state_csv_path)\n",
    "    state_per_playa = calc_per_playa_stats(state_df)\n",
    "    per_playa_df = per_playa_df.append(state_per_playa)"
   ]
  },
  {
   "cell_type": "code",
   "execution_count": null,
   "metadata": {},
   "outputs": [],
   "source": [
    "print((per_playa_df['inundation']['max']==0).sum())\n",
    "print((per_playa_df['inundation']['max']>0).sum())"
   ]
  },
  {
   "cell_type": "code",
   "execution_count": null,
   "metadata": {},
   "outputs": [],
   "source": [
    "per_playa_df['inundation']['max'].hist()"
   ]
  },
  {
   "cell_type": "code",
   "execution_count": null,
   "metadata": {},
   "outputs": [],
   "source": [
    "# For playas that were inundated at some point, on avg how many months were they inundated?\n",
    "per_playa_df.loc[per_playa_df['inundation']['max']>0,\n",
    "                 per_playa_df.columns.get_level_values(1)=='months_nonzero'].mean() # On average, 1/10 months"
   ]
  },
  {
   "cell_type": "markdown",
   "metadata": {},
   "source": [
    "## Save per-playa stats as csv"
   ]
  },
  {
   "cell_type": "code",
   "execution_count": null,
   "metadata": {},
   "outputs": [],
   "source": [
    "per_playa_df.assign(nonzero = per_playa_df['inundation']['max']>0)\n",
    "per_playa_df.to_csv('../data/jrc-water_summary_atts.csv')"
   ]
  },
  {
   "cell_type": "markdown",
   "metadata": {},
   "source": [
    "## Get basic per-year stats"
   ]
  },
  {
   "cell_type": "code",
   "execution_count": null,
   "metadata": {},
   "outputs": [],
   "source": [
    "def calc_per_year_stats(state_df,state):\n",
    "\n",
    "    per_year = state_df[['inundation','area','year']].groupby('year').agg(['max','min','sum','mean','median',months_nonzero])\n",
    "    per_year = per_year.assign(state=state)\n",
    "    return per_year"
   ]
  },
  {
   "cell_type": "code",
   "execution_count": null,
   "metadata": {},
   "outputs": [],
   "source": [
    "per_year_df = pd.DataFrame()\n",
    "for state in state_list:\n",
    "    state_csv_path = inun_csv_basename + state + '.csv'\n",
    "    state_df = pd.read_csv(state_csv_path)\n",
    "    state_per_year= calc_per_year_stats(state_df, state)\n",
    "    per_year_df = per_year_df.append(state_per_year)\n",
    "per_year_df.index.rename('year',inplace=True)"
   ]
  },
  {
   "cell_type": "code",
   "execution_count": null,
   "metadata": {},
   "outputs": [],
   "source": [
    "per_year_df['inundation'].groupby('year').agg({'sum':'sum', 'months_nonzero':'sum'}).plot()"
   ]
  },
  {
   "cell_type": "code",
   "execution_count": null,
   "metadata": {},
   "outputs": [],
   "source": [
    "per_year_df['area'].groupby('year').agg({'sum':'sum'}).plot(title='Inundated Area (acres)')"
   ]
  },
  {
   "cell_type": "markdown",
   "metadata": {},
   "source": [
    "## Basic per-month stats"
   ]
  },
  {
   "cell_type": "code",
   "execution_count": null,
   "metadata": {},
   "outputs": [],
   "source": [
    "def calc_per_month_stats(state_df, state):\n",
    "\n",
    "    per_month = state_df[['inundation','area','month']].groupby(['month']).agg(['max','min','sum','mean','median'])\n",
    "    per_month = per_month.assign(state=state)\n",
    "               \n",
    "    return per_month"
   ]
  },
  {
   "cell_type": "code",
   "execution_count": null,
   "metadata": {},
   "outputs": [],
   "source": [
    "per_month_df = pd.DataFrame()\n",
    "for state in state_list:\n",
    "    state_csv_path = inun_csv_basename + state + '.csv'\n",
    "    state_df = pd.read_csv(state_csv_path)\n",
    "    state_per_month= calc_per_month_stats(state_df, state)\n",
    "    per_month_df = per_month_df.append(state_per_month)\n",
    "per_month_df.index.rename('month',inplace=True)"
   ]
  },
  {
   "cell_type": "code",
   "execution_count": null,
   "metadata": {},
   "outputs": [],
   "source": [
    "per_month_df['inundation'].groupby('month').agg({'sum':'sum'}).plot(title=\"Sum of Inundation\")"
   ]
  },
  {
   "cell_type": "code",
   "execution_count": null,
   "metadata": {},
   "outputs": [],
   "source": [
    "per_month_df['area'].groupby('month').agg({'sum':'sum'}).plot(title=\"Monthly Inundated Area (Acres)\")"
   ]
  },
  {
   "cell_type": "code",
   "execution_count": null,
   "metadata": {},
   "outputs": [],
   "source": [
    "per_month_df.assign(sum_area = per_month_df['area']['sum'])[['state','sum_area']].pivot(\n",
    "    index=None, columns='state', values='sum_area').plot(title='Monthly Inundated Area, by state')"
   ]
  },
  {
   "cell_type": "markdown",
   "metadata": {},
   "source": [
    "## Get basic per-month/year stats"
   ]
  },
  {
   "cell_type": "code",
   "execution_count": null,
   "metadata": {},
   "outputs": [],
   "source": [
    "def calc_per_month_year_stats(state_df, state):\n",
    "\n",
    "    per_month_year = state_df[['inundation','area','year','month']].groupby(['year','month']).agg(['max','min','sum','mean','median'])\n",
    "    per_month_year = per_month_year.assign(state=state)\n",
    "               \n",
    "    return per_month_year"
   ]
  },
  {
   "cell_type": "code",
   "execution_count": null,
   "metadata": {},
   "outputs": [],
   "source": [
    "per_month_year_df = pd.DataFrame()\n",
    "for state in state_list:\n",
    "    state_csv_path = inun_csv_basename + state + '.csv'\n",
    "    state_df = pd.read_csv(state_csv_path)\n",
    "    state_per_month_year = calc_per_month_year_stats(state_df, state)\n",
    "    per_month_year_df = per_month_year_df.append(state_per_month_year)\n",
    "per_month_year_df.index.rename(['year','month'],inplace=True)"
   ]
  },
  {
   "cell_type": "code",
   "execution_count": null,
   "metadata": {},
   "outputs": [],
   "source": [
    "per_month_year_df['inundation'].groupby(['year','month']).agg({'sum':'sum'}).plot()"
   ]
  },
  {
   "cell_type": "code",
   "execution_count": null,
   "metadata": {},
   "outputs": [],
   "source": [
    "per_month_year_df['area'].groupby(['year','month']).agg({'sum':'sum'}).plot()"
   ]
  }
 ],
 "metadata": {
  "kernelspec": {
   "display_name": "playa_venv",
   "language": "python",
   "name": "playa_venv"
  },
  "language_info": {
   "codemirror_mode": {
    "name": "ipython",
    "version": 3
   },
   "file_extension": ".py",
   "mimetype": "text/x-python",
   "name": "python",
   "nbconvert_exporter": "python",
   "pygments_lexer": "ipython3",
   "version": "3.7.3"
  }
 },
 "nbformat": 4,
 "nbformat_minor": 4
}
