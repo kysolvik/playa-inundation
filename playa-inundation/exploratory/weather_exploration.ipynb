{
 "cells": [
  {
   "cell_type": "markdown",
   "metadata": {},
   "source": [
    "# Exploring Precip and Temp Over Time"
   ]
  },
  {
   "cell_type": "code",
   "execution_count": null,
   "metadata": {},
   "outputs": [],
   "source": [
    "import pandas as pd\n",
    "import matplotlib.pyplot as plt"
   ]
  },
  {
   "cell_type": "code",
   "execution_count": null,
   "metadata": {},
   "outputs": [],
   "source": [
    "weather_csv_basename = '../data/state_county_csvs/weather_'\n",
    "state_list = ['CO', 'KS', 'NE', 'NM', 'OK','TX']"
   ]
  },
  {
   "cell_type": "code",
   "execution_count": null,
   "metadata": {},
   "outputs": [],
   "source": [
    "def read_state_csv(state):\n",
    "    \"\"\"Read and also rename columns to be a bit easier\"\"\"\n",
    "    state_csv_path = weather_csv_basename + state + '.csv'\n",
    "    state_df = pd.read_csv(state_csv_path)\n",
    "    \n",
    "    # This will need to commented out/deleted once I rerun preprocessing, which will do the rename earlier\n",
    "    state_df = state_df.rename(columns={'mean_2m_air_temperature':'temp', 'total_precipitation':'precip'})\n",
    "    \n",
    "    return state_df"
   ]
  },
  {
   "cell_type": "markdown",
   "metadata": {},
   "source": [
    "## Get basic per-year stats"
   ]
  },
  {
   "cell_type": "code",
   "execution_count": null,
   "metadata": {},
   "outputs": [],
   "source": [
    "def calc_per_year_stats(state_df, state):\n",
    "\n",
    "    year_grouped = state_df[['temp','precip','year']].groupby(['year'])\n",
    "    per_year = year_grouped.mean()\n",
    "    per_year = per_year.assign(count = year_grouped.size(),\n",
    "                                state=state)\n",
    "               \n",
    "    return per_year"
   ]
  },
  {
   "cell_type": "code",
   "execution_count": null,
   "metadata": {},
   "outputs": [],
   "source": [
    "per_year_df = pd.DataFrame()\n",
    "for state in state_list:\n",
    "    state_df = read_state_csv(state)\n",
    "    state_per_year= calc_per_year_stats(state_df, state)\n",
    "    per_year_df = per_year_df.append(state_per_year)\n",
    "per_year_df.index.rename('year',inplace=True)"
   ]
  },
  {
   "cell_type": "code",
   "execution_count": null,
   "metadata": {},
   "outputs": [],
   "source": [
    "per_year_df.pivot(index=None, columns='state', values='temp').plot(title='Annual Temp, by state')"
   ]
  },
  {
   "cell_type": "code",
   "execution_count": null,
   "metadata": {},
   "outputs": [],
   "source": [
    "per_year_df.pivot(index=None, columns='state', values='precip').plot(title='Annual Precip, by state')"
   ]
  },
  {
   "cell_type": "markdown",
   "metadata": {},
   "source": [
    "## Basic per-month stats"
   ]
  },
  {
   "cell_type": "code",
   "execution_count": null,
   "metadata": {},
   "outputs": [],
   "source": [
    "def calc_per_month_stats(state_df, state):\n",
    "\n",
    "    month_grouped = state_df[['temp','precip','month']].groupby(['month'])\n",
    "    per_month = month_grouped.mean()\n",
    "    per_month = per_month.assign(count = month_grouped.size(),\n",
    "                                state=state)\n",
    "               \n",
    "    return per_month"
   ]
  },
  {
   "cell_type": "code",
   "execution_count": null,
   "metadata": {},
   "outputs": [],
   "source": [
    "per_month_df = pd.DataFrame()\n",
    "for state in state_list:\n",
    "    state_df = read_state_csv(state)\n",
    "    state_per_month= calc_per_month_stats(state_df, state)\n",
    "    per_month_df = per_month_df.append(state_per_month)\n",
    "per_month_df.index.rename('month',inplace=True)"
   ]
  },
  {
   "cell_type": "code",
   "execution_count": null,
   "metadata": {},
   "outputs": [],
   "source": [
    "per_month_df.pivot(index=None, columns='state', values='temp').plot(title='Monthly Temp, by state')"
   ]
  },
  {
   "cell_type": "code",
   "execution_count": null,
   "metadata": {},
   "outputs": [],
   "source": [
    "per_month_df.pivot(index=None, columns='state', values='precip').plot(title='Monthly Precip, by state')"
   ]
  }
 ],
 "metadata": {
  "kernelspec": {
   "display_name": "playa_venv",
   "language": "python",
   "name": "playa_venv"
  },
  "language_info": {
   "codemirror_mode": {
    "name": "ipython",
    "version": 3
   },
   "file_extension": ".py",
   "mimetype": "text/x-python",
   "name": "python",
   "nbconvert_exporter": "python",
   "pygments_lexer": "ipython3",
   "version": "3.7.3"
  }
 },
 "nbformat": 4,
 "nbformat_minor": 4
}
