{
 "cells": [
  {
   "cell_type": "markdown",
   "metadata": {},
   "source": [
    "# Extract zonal stats using rasterstats\n",
    "\n",
    "* Takes a while to run unfortunately, bc zonal stats can't do multi-band extractions need to each year separately\n",
    "* Zonal stats only has binary in/not-in polygon. Can't tell what % of raster pixel is in polygon\n",
    "* Rasters need to be reprojected to NAD83/UTM14 (EPSG:26914)\n",
    "* Runs at 100m and 1km buffer"
   ]
  },
  {
   "cell_type": "code",
   "execution_count": null,
   "metadata": {},
   "outputs": [],
   "source": [
    "import rasterstats\n",
    "import rasterio as rio\n",
    "import glob\n",
    "import os\n",
    "import re\n",
    "import geopandas as gpd\n",
    "import numpy as np\n",
    "import pandas as pd"
   ]
  },
  {
   "cell_type": "code",
   "execution_count": null,
   "metadata": {},
   "outputs": [],
   "source": [
    "raster_dir = '../data/landcover/'\n",
    "raster_list = glob.glob(os.path.join(raster_dir, '*.tif'))\n",
    "raster_list.sort()\n",
    "year_list = [re.search(r'y(\\d{4})', rpath).group(1) for rpath in raster_list]"
   ]
  },
  {
   "cell_type": "code",
   "execution_count": null,
   "metadata": {},
   "outputs": [],
   "source": [
    "playa_shpfile = '../data/shapefiles/playa_v5_summary_atts/playa_v5_summary_atts.shp'"
   ]
  },
  {
   "cell_type": "markdown",
   "metadata": {},
   "source": [
    "# First need to create polygons for extraction"
   ]
  },
  {
   "cell_type": "code",
   "execution_count": null,
   "metadata": {},
   "outputs": [],
   "source": [
    "playa_gdf = gpd.read_file(playa_shpfile)"
   ]
  },
  {
   "cell_type": "code",
   "execution_count": null,
   "metadata": {},
   "outputs": [],
   "source": [
    "playa_gdf = playa_gdf[['id','geometry']]"
   ]
  },
  {
   "cell_type": "code",
   "execution_count": null,
   "metadata": {},
   "outputs": [],
   "source": [
    "buffer_100_gdf = playa_gdf.copy()\n",
    "buffer_100_gdf = playa_gdf.geometry.buffer(100)"
   ]
  },
  {
   "cell_type": "code",
   "execution_count": null,
   "metadata": {},
   "outputs": [],
   "source": [
    "buffer_100_gdf.to_file('../data/shapefiles/buffer_playas_100m.shp')"
   ]
  },
  {
   "cell_type": "code",
   "execution_count": null,
   "metadata": {},
   "outputs": [],
   "source": [
    "buffer_1km_gdf = playa_gdf.copy()\n",
    "buffer_1km_gdf = playa_gdf.geometry.buffer(1000)\n",
    "buffer_1km_gdf.to_file('../data/shapefiles/buffer_playas_1km.shp')"
   ]
  },
  {
   "cell_type": "markdown",
   "metadata": {},
   "source": [
    "# Now, rasterstats"
   ]
  },
  {
   "cell_type": "code",
   "execution_count": null,
   "metadata": {},
   "outputs": [],
   "source": [
    "def extract_from_year(shpfile, raster_list, year):\n",
    "    rp = np.array(raster_list)[[str(year) in rp for rp in raster_list]][0]\n",
    "    pixel_vals = rasterstats.zonal_stats(shpfile,\n",
    "                            rp,\n",
    "                          categorical=True)\n",
    "    return pixel_vals"
   ]
  },
  {
   "cell_type": "code",
   "execution_count": null,
   "metadata": {},
   "outputs": [],
   "source": [
    "output_df = pd.DataFrame({'id':pd.read_csv('../data/playa_nogeometry.csv')['id']})\n",
    "for y in year_list:\n",
    "    pixel_vals = extract_from_year('../data/shapefiles/buffer_playas_100m.shp', raster_list, y)\n",
    "    output_df.loc[:, str(y)+'_100m'] = pixel_vals\n",
    "    print(y, 'done')"
   ]
  },
  {
   "cell_type": "code",
   "execution_count": null,
   "metadata": {},
   "outputs": [],
   "source": [
    "output_df.to_csv('../data/buffer_playas_100m_counts_all.csv', index=False)"
   ]
  },
  {
   "cell_type": "code",
   "execution_count": null,
   "metadata": {},
   "outputs": [],
   "source": [
    "for y in year_list:\n",
    "    pixel_vals = extract_from_year('../data/shapefiles/buffer_playas_1km.shp', raster_list, y)\n",
    "    output_df.loc[:, str(y)+'_1km'] = pixel_vals\n",
    "    print(y, 'done')"
   ]
  },
  {
   "cell_type": "code",
   "execution_count": null,
   "metadata": {},
   "outputs": [],
   "source": [
    "output_df.to_csv('../data/buffer_playas_all_counts_all.csv', index=False)"
   ]
  }
 ],
 "metadata": {
  "kernelspec": {
   "display_name": "playa_venv",
   "language": "python",
   "name": "playa_venv"
  },
  "language_info": {
   "codemirror_mode": {
    "name": "ipython",
    "version": 3
   },
   "file_extension": ".py",
   "mimetype": "text/x-python",
   "name": "python",
   "nbconvert_exporter": "python",
   "pygments_lexer": "ipython3",
   "version": "3.7.3"
  }
 },
 "nbformat": 4,
 "nbformat_minor": 4
}
