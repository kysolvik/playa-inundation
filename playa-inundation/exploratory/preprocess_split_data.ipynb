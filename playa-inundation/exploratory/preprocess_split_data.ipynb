{
 "cells": [
  {
   "cell_type": "code",
   "execution_count": null,
   "metadata": {},
   "outputs": [],
   "source": [
    "import pandas as pd"
   ]
  },
  {
   "cell_type": "markdown",
   "metadata": {},
   "source": [
    "# Load att df"
   ]
  },
  {
   "cell_type": "code",
   "execution_count": null,
   "metadata": {},
   "outputs": [],
   "source": [
    "playa_att_csv_path = '../data/playa_nogeometry.csv'\n",
    "playa_att_df = pd.read_csv(playa_att_csv_path).set_index('id')"
   ]
  },
  {
   "cell_type": "markdown",
   "metadata": {},
   "source": [
    "# Preprocess data to split up by state and county"
   ]
  },
  {
   "cell_type": "code",
   "execution_count": null,
   "metadata": {},
   "outputs": [],
   "source": [
    "inun_csv_path = '../data/jrc-water_1984-2019.csv'"
   ]
  },
  {
   "cell_type": "code",
   "execution_count": null,
   "metadata": {},
   "outputs": [],
   "source": [
    "inun_df = pd.read_csv(inun_csv_path).set_index('id').drop('.geo', axis=1).rename(columns={'mean':'inundation'})"
   ]
  },
  {
   "cell_type": "code",
   "execution_count": null,
   "metadata": {},
   "outputs": [],
   "source": [
    "# Save state and county csvs\n",
    "for state in playa_att_df['state'].unique():\n",
    "    \n",
    "    # Join state and county\n",
    "    state_df = inun_df.join(playa_att_df.loc[playa_att_df['state']==state,\n",
    "                                             ['state', 'countyfips', 'acres']],how='inner')\n",
    "    \n",
    "    # Split up weird index into year + months\n",
    "    split_index = state_df['system:index'].str.split('_', expand=True)\n",
    "    state_df = state_df.assign(year=split_index[0].astype('int16'),\n",
    "                               month=split_index[1].astype('int16'),\n",
    "                               system_index=split_index[2],\n",
    "                               area=state_df['acres']*state_df['inundation'])\n",
    "    state_df = state_df.drop('system:index', axis=1)\n",
    "    \n",
    "    # Save state csv\n",
    "    state_out_path = '../data/state_county_csvs/inun_frac_{}.csv'.format(state)\n",
    "    state_df.to_csv(state_out_path)\n",
    "    \n",
    "    # Save county csvs\n",
    "    for county in state_df['countyfips'].unique():\n",
    "        county_df = state_df.loc[state_df['countyfips']==county]\n",
    "        county_out_path = '../data/state_county_csvs/counties/inun_frac_{}_{}.csv'.format(state, county)\n",
    "        county_df.to_csv(county_out_path)"
   ]
  },
  {
   "cell_type": "markdown",
   "metadata": {},
   "source": [
    "# Preprocess and split weather data"
   ]
  },
  {
   "cell_type": "code",
   "execution_count": null,
   "metadata": {},
   "outputs": [],
   "source": [
    "weather_csv_path = '../data/era5_1984-2019.csv'"
   ]
  },
  {
   "cell_type": "code",
   "execution_count": null,
   "metadata": {},
   "outputs": [],
   "source": [
    "weather_df = pd.read_csv(weather_csv_path).set_index('id').drop('.geo', axis=1)"
   ]
  },
  {
   "cell_type": "code",
   "execution_count": null,
   "metadata": {},
   "outputs": [],
   "source": [
    "# Save state and county csvs\n",
    "for state in playa_att_df['state'].unique():\n",
    "    \n",
    "    # Join state and county\n",
    "    state_df = weather_df.join(playa_att_df.loc[playa_att_df['state']==state,\n",
    "                                             ['state', 'countyfips', 'acres']],how='inner')\n",
    "    \n",
    "    # Split up weird index into year + months\n",
    "    split_index = state_df['system:index'].str.split('_', expand=True)\n",
    "    state_df = state_df.assign(year=split_index[0].str.slice(0,4).astype('int16'),\n",
    "                               month=split_index[0].str.slice(4,6).astype('int16'),\n",
    "                               system_index=split_index[1])\n",
    "    state_df = state_df.drop('system:index', axis=1)\n",
    "    \n",
    "    # Save state csv\n",
    "    state_out_path = '../data/state_county_csvs/weather_{}.csv'.format(state)\n",
    "    state_df.to_csv(state_out_path)\n",
    "    \n",
    "    # Save county csvs\n",
    "    for county in state_df['countyfips'].unique():\n",
    "        county_df = state_df.loc[state_df['countyfips']==county]\n",
    "        county_out_path = '../data/state_county_csvs/counties/weather_{}_{}.csv'.format(state, county)\n",
    "        county_df.to_csv(county_out_path)"
   ]
  }
 ],
 "metadata": {
  "kernelspec": {
   "display_name": "playa_venv",
   "language": "python",
   "name": "playa_venv"
  },
  "language_info": {
   "codemirror_mode": {
    "name": "ipython",
    "version": 3
   },
   "file_extension": ".py",
   "mimetype": "text/x-python",
   "name": "python",
   "nbconvert_exporter": "python",
   "pygments_lexer": "ipython3",
   "version": "3.7.3"
  }
 },
 "nbformat": 4,
 "nbformat_minor": 4
}
